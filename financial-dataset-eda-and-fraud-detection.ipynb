{
 "cells": [
  {
   "cell_type": "markdown",
   "id": "a2b68b5c",
   "metadata": {
    "papermill": {
     "duration": 0.012204,
     "end_time": "2022-06-13T12:56:52.629238",
     "exception": false,
     "start_time": "2022-06-13T12:56:52.617034",
     "status": "completed"
    },
    "tags": []
   },
   "source": [
    "# Financial Dataset EDA and Fraud Detection"
   ]
  },
  {
   "cell_type": "markdown",
   "id": "eeee37c4",
   "metadata": {
    "papermill": {
     "duration": 0.010908,
     "end_time": "2022-06-13T12:56:52.651030",
     "exception": false,
     "start_time": "2022-06-13T12:56:52.640122",
     "status": "completed"
    },
    "tags": []
   },
   "source": [
    "This Jupyter Notebook comprises of EDA of a Dataset with an implementation of  neural network model and a Decision Tree Classifier for fraud prediction prediction. The dataset consist of transaction information with more than 6 million entries. The dataset which is being utilized synthetic dataset generated using the simulator called PaySim as an approach to such a problem. PaySim uses aggregated data from the private dataset to generate a synthetic dataset that resembles the normal operation of transactions and injects malicious behaviour to later evaluate the performance of fraud detection methods."
   ]
  },
  {
   "cell_type": "code",
   "execution_count": 1,
   "id": "c234653d",
   "metadata": {
    "_cell_guid": "b1076dfc-b9ad-4769-8c92-a6c4dae69d19",
    "_uuid": "8f2839f25d086af736a60e9eeb907d3b93b6e0e5",
    "execution": {
     "iopub.execute_input": "2022-06-13T12:56:52.676057Z",
     "iopub.status.busy": "2022-06-13T12:56:52.675561Z",
     "iopub.status.idle": "2022-06-13T12:56:53.767201Z",
     "shell.execute_reply": "2022-06-13T12:56:53.766022Z"
    },
    "papermill": {
     "duration": 1.10743,
     "end_time": "2022-06-13T12:56:53.770149",
     "exception": false,
     "start_time": "2022-06-13T12:56:52.662719",
     "status": "completed"
    },
    "tags": []
   },
   "outputs": [],
   "source": [
    "import pandas as pd\n",
    "import numpy as np\n",
    "import matplotlib.pyplot as plt\n",
    "import seaborn as sns\n",
    "from sklearn.model_selection import train_test_split\n",
    "from sklearn.preprocessing import RobustScaler\n",
    "import warnings\n",
    "warnings.filterwarnings('ignore')"
   ]
  },
  {
   "cell_type": "code",
   "execution_count": 2,
   "id": "d7f4223b",
   "metadata": {
    "execution": {
     "iopub.execute_input": "2022-06-13T12:56:53.793208Z",
     "iopub.status.busy": "2022-06-13T12:56:53.792917Z",
     "iopub.status.idle": "2022-06-13T12:57:09.301886Z",
     "shell.execute_reply": "2022-06-13T12:57:09.301021Z"
    },
    "papermill": {
     "duration": 15.52302,
     "end_time": "2022-06-13T12:57:09.304599",
     "exception": false,
     "start_time": "2022-06-13T12:56:53.781579",
     "status": "completed"
    },
    "tags": []
   },
   "outputs": [
    {
     "data": {
      "text/html": [
       "<div>\n",
       "<style scoped>\n",
       "    .dataframe tbody tr th:only-of-type {\n",
       "        vertical-align: middle;\n",
       "    }\n",
       "\n",
       "    .dataframe tbody tr th {\n",
       "        vertical-align: top;\n",
       "    }\n",
       "\n",
       "    .dataframe thead th {\n",
       "        text-align: right;\n",
       "    }\n",
       "</style>\n",
       "<table border=\"1\" class=\"dataframe\">\n",
       "  <thead>\n",
       "    <tr style=\"text-align: right;\">\n",
       "      <th></th>\n",
       "      <th>step</th>\n",
       "      <th>type</th>\n",
       "      <th>amount</th>\n",
       "      <th>nameOrig</th>\n",
       "      <th>oldbalanceOrg</th>\n",
       "      <th>newbalanceOrig</th>\n",
       "      <th>nameDest</th>\n",
       "      <th>oldbalanceDest</th>\n",
       "      <th>newbalanceDest</th>\n",
       "      <th>isFraud</th>\n",
       "      <th>isFlaggedFraud</th>\n",
       "    </tr>\n",
       "  </thead>\n",
       "  <tbody>\n",
       "    <tr>\n",
       "      <th>0</th>\n",
       "      <td>1</td>\n",
       "      <td>PAYMENT</td>\n",
       "      <td>9839.64</td>\n",
       "      <td>C1231006815</td>\n",
       "      <td>170136.0</td>\n",
       "      <td>160296.36</td>\n",
       "      <td>M1979787155</td>\n",
       "      <td>0.0</td>\n",
       "      <td>0.0</td>\n",
       "      <td>0</td>\n",
       "      <td>0</td>\n",
       "    </tr>\n",
       "    <tr>\n",
       "      <th>1</th>\n",
       "      <td>1</td>\n",
       "      <td>PAYMENT</td>\n",
       "      <td>1864.28</td>\n",
       "      <td>C1666544295</td>\n",
       "      <td>21249.0</td>\n",
       "      <td>19384.72</td>\n",
       "      <td>M2044282225</td>\n",
       "      <td>0.0</td>\n",
       "      <td>0.0</td>\n",
       "      <td>0</td>\n",
       "      <td>0</td>\n",
       "    </tr>\n",
       "    <tr>\n",
       "      <th>2</th>\n",
       "      <td>1</td>\n",
       "      <td>TRANSFER</td>\n",
       "      <td>181.00</td>\n",
       "      <td>C1305486145</td>\n",
       "      <td>181.0</td>\n",
       "      <td>0.00</td>\n",
       "      <td>C553264065</td>\n",
       "      <td>0.0</td>\n",
       "      <td>0.0</td>\n",
       "      <td>1</td>\n",
       "      <td>0</td>\n",
       "    </tr>\n",
       "    <tr>\n",
       "      <th>3</th>\n",
       "      <td>1</td>\n",
       "      <td>CASH_OUT</td>\n",
       "      <td>181.00</td>\n",
       "      <td>C840083671</td>\n",
       "      <td>181.0</td>\n",
       "      <td>0.00</td>\n",
       "      <td>C38997010</td>\n",
       "      <td>21182.0</td>\n",
       "      <td>0.0</td>\n",
       "      <td>1</td>\n",
       "      <td>0</td>\n",
       "    </tr>\n",
       "    <tr>\n",
       "      <th>4</th>\n",
       "      <td>1</td>\n",
       "      <td>PAYMENT</td>\n",
       "      <td>11668.14</td>\n",
       "      <td>C2048537720</td>\n",
       "      <td>41554.0</td>\n",
       "      <td>29885.86</td>\n",
       "      <td>M1230701703</td>\n",
       "      <td>0.0</td>\n",
       "      <td>0.0</td>\n",
       "      <td>0</td>\n",
       "      <td>0</td>\n",
       "    </tr>\n",
       "  </tbody>\n",
       "</table>\n",
       "</div>"
      ],
      "text/plain": [
       "   step      type    amount     nameOrig  oldbalanceOrg  newbalanceOrig  \\\n",
       "0     1   PAYMENT   9839.64  C1231006815       170136.0       160296.36   \n",
       "1     1   PAYMENT   1864.28  C1666544295        21249.0        19384.72   \n",
       "2     1  TRANSFER    181.00  C1305486145          181.0            0.00   \n",
       "3     1  CASH_OUT    181.00   C840083671          181.0            0.00   \n",
       "4     1   PAYMENT  11668.14  C2048537720        41554.0        29885.86   \n",
       "\n",
       "      nameDest  oldbalanceDest  newbalanceDest  isFraud  isFlaggedFraud  \n",
       "0  M1979787155             0.0             0.0        0               0  \n",
       "1  M2044282225             0.0             0.0        0               0  \n",
       "2   C553264065             0.0             0.0        1               0  \n",
       "3    C38997010         21182.0             0.0        1               0  \n",
       "4  M1230701703             0.0             0.0        0               0  "
      ]
     },
     "execution_count": 2,
     "metadata": {},
     "output_type": "execute_result"
    }
   ],
   "source": [
    "#Loading Dataset\n",
    "data = pd.read_csv('../input/paysim1/PS_20174392719_1491204439457_log.csv')\n",
    "data.head()"
   ]
  },
  {
   "cell_type": "markdown",
   "id": "8665f3d4",
   "metadata": {
    "papermill": {
     "duration": 0.011054,
     "end_time": "2022-06-13T12:57:09.327360",
     "exception": false,
     "start_time": "2022-06-13T12:57:09.316306",
     "status": "completed"
    },
    "tags": []
   },
   "source": [
    "**EDA**"
   ]
  },
  {
   "cell_type": "code",
   "execution_count": 3,
   "id": "e277523c",
   "metadata": {
    "execution": {
     "iopub.execute_input": "2022-06-13T12:57:09.349512Z",
     "iopub.status.busy": "2022-06-13T12:57:09.349204Z",
     "iopub.status.idle": "2022-06-13T12:57:19.872117Z",
     "shell.execute_reply": "2022-06-13T12:57:19.871310Z"
    },
    "papermill": {
     "duration": 10.536012,
     "end_time": "2022-06-13T12:57:19.873899",
     "exception": false,
     "start_time": "2022-06-13T12:57:09.337887",
     "status": "completed"
    },
    "tags": []
   },
   "outputs": [
    {
     "data": {
      "text/plain": [
       "C1902386530    3\n",
       "C363736674     3\n",
       "C545315117     3\n",
       "C724452879     3\n",
       "C1784010646    3\n",
       "              ..\n",
       "C98968405      1\n",
       "C720209255     1\n",
       "C1567523029    1\n",
       "C644777639     1\n",
       "C1280323807    1\n",
       "Name: nameOrig, Length: 6353307, dtype: int64"
      ]
     },
     "execution_count": 3,
     "metadata": {},
     "output_type": "execute_result"
    }
   ],
   "source": [
    "data['nameOrig'].value_counts()"
   ]
  },
  {
   "cell_type": "code",
   "execution_count": 4,
   "id": "72d87102",
   "metadata": {
    "execution": {
     "iopub.execute_input": "2022-06-13T12:57:19.897601Z",
     "iopub.status.busy": "2022-06-13T12:57:19.897253Z",
     "iopub.status.idle": "2022-06-13T12:57:25.136729Z",
     "shell.execute_reply": "2022-06-13T12:57:25.135915Z"
    },
    "papermill": {
     "duration": 5.253432,
     "end_time": "2022-06-13T12:57:25.138900",
     "exception": false,
     "start_time": "2022-06-13T12:57:19.885468",
     "status": "completed"
    },
    "tags": []
   },
   "outputs": [
    {
     "data": {
      "text/plain": [
       "C1286084959    113\n",
       "C985934102     109\n",
       "C665576141     105\n",
       "C2083562754    102\n",
       "C248609774     101\n",
       "              ... \n",
       "M1470027725      1\n",
       "M1330329251      1\n",
       "M1784358659      1\n",
       "M2081431099      1\n",
       "C2080388513      1\n",
       "Name: nameDest, Length: 2722362, dtype: int64"
      ]
     },
     "execution_count": 4,
     "metadata": {},
     "output_type": "execute_result"
    }
   ],
   "source": [
    "data['nameDest'].value_counts()"
   ]
  },
  {
   "cell_type": "code",
   "execution_count": 5,
   "id": "2956e629",
   "metadata": {
    "execution": {
     "iopub.execute_input": "2022-06-13T12:57:25.164234Z",
     "iopub.status.busy": "2022-06-13T12:57:25.163958Z",
     "iopub.status.idle": "2022-06-13T12:57:25.168945Z",
     "shell.execute_reply": "2022-06-13T12:57:25.168215Z"
    },
    "papermill": {
     "duration": 0.019666,
     "end_time": "2022-06-13T12:57:25.170684",
     "exception": false,
     "start_time": "2022-06-13T12:57:25.151018",
     "status": "completed"
    },
    "tags": []
   },
   "outputs": [
    {
     "data": {
      "text/plain": [
       "(6362620, 11)"
      ]
     },
     "execution_count": 5,
     "metadata": {},
     "output_type": "execute_result"
    }
   ],
   "source": [
    "#Dimensions of the Dataset\n",
    "data.shape"
   ]
  },
  {
   "cell_type": "code",
   "execution_count": 6,
   "id": "06f24403",
   "metadata": {
    "execution": {
     "iopub.execute_input": "2022-06-13T12:57:25.194570Z",
     "iopub.status.busy": "2022-06-13T12:57:25.194297Z",
     "iopub.status.idle": "2022-06-13T12:57:25.199193Z",
     "shell.execute_reply": "2022-06-13T12:57:25.198486Z"
    },
    "papermill": {
     "duration": 0.018881,
     "end_time": "2022-06-13T12:57:25.200906",
     "exception": false,
     "start_time": "2022-06-13T12:57:25.182025",
     "status": "completed"
    },
    "tags": []
   },
   "outputs": [
    {
     "data": {
      "text/plain": [
       "Index(['step', 'type', 'amount', 'nameOrig', 'oldbalanceOrg', 'newbalanceOrig',\n",
       "       'nameDest', 'oldbalanceDest', 'newbalanceDest', 'isFraud',\n",
       "       'isFlaggedFraud'],\n",
       "      dtype='object')"
      ]
     },
     "execution_count": 6,
     "metadata": {},
     "output_type": "execute_result"
    }
   ],
   "source": [
    "#Columns in the Dataset\n",
    "data.columns"
   ]
  },
  {
   "cell_type": "code",
   "execution_count": 7,
   "id": "e0643c1f",
   "metadata": {
    "execution": {
     "iopub.execute_input": "2022-06-13T12:57:25.224529Z",
     "iopub.status.busy": "2022-06-13T12:57:25.224159Z",
     "iopub.status.idle": "2022-06-13T12:57:25.240931Z",
     "shell.execute_reply": "2022-06-13T12:57:25.239479Z"
    },
    "papermill": {
     "duration": 0.030497,
     "end_time": "2022-06-13T12:57:25.242743",
     "exception": false,
     "start_time": "2022-06-13T12:57:25.212246",
     "status": "completed"
    },
    "tags": []
   },
   "outputs": [
    {
     "name": "stdout",
     "output_type": "stream",
     "text": [
      "<class 'pandas.core.frame.DataFrame'>\n",
      "RangeIndex: 6362620 entries, 0 to 6362619\n",
      "Data columns (total 11 columns):\n",
      " #   Column          Dtype  \n",
      "---  ------          -----  \n",
      " 0   step            int64  \n",
      " 1   type            object \n",
      " 2   amount          float64\n",
      " 3   nameOrig        object \n",
      " 4   oldbalanceOrg   float64\n",
      " 5   newbalanceOrig  float64\n",
      " 6   nameDest        object \n",
      " 7   oldbalanceDest  float64\n",
      " 8   newbalanceDest  float64\n",
      " 9   isFraud         int64  \n",
      " 10  isFlaggedFraud  int64  \n",
      "dtypes: float64(5), int64(3), object(3)\n",
      "memory usage: 534.0+ MB\n"
     ]
    }
   ],
   "source": [
    "#Dataset info\n",
    "data.info()"
   ]
  },
  {
   "cell_type": "code",
   "execution_count": 8,
   "id": "04e98487",
   "metadata": {
    "execution": {
     "iopub.execute_input": "2022-06-13T12:57:25.267415Z",
     "iopub.status.busy": "2022-06-13T12:57:25.266741Z",
     "iopub.status.idle": "2022-06-13T12:57:26.152953Z",
     "shell.execute_reply": "2022-06-13T12:57:26.152201Z"
    },
    "papermill": {
     "duration": 0.900062,
     "end_time": "2022-06-13T12:57:26.154668",
     "exception": false,
     "start_time": "2022-06-13T12:57:25.254606",
     "status": "completed"
    },
    "tags": []
   },
   "outputs": [
    {
     "data": {
      "text/plain": [
       "CASH_OUT    2237500\n",
       "PAYMENT     2151495\n",
       "CASH_IN     1399284\n",
       "TRANSFER     532909\n",
       "DEBIT         41432\n",
       "Name: type, dtype: int64"
      ]
     },
     "execution_count": 8,
     "metadata": {},
     "output_type": "execute_result"
    }
   ],
   "source": [
    "data['type'].value_counts()"
   ]
  },
  {
   "cell_type": "code",
   "execution_count": 9,
   "id": "cc200025",
   "metadata": {
    "execution": {
     "iopub.execute_input": "2022-06-13T12:57:26.179317Z",
     "iopub.status.busy": "2022-06-13T12:57:26.179051Z",
     "iopub.status.idle": "2022-06-13T12:57:26.771946Z",
     "shell.execute_reply": "2022-06-13T12:57:26.770960Z"
    },
    "papermill": {
     "duration": 0.60813,
     "end_time": "2022-06-13T12:57:26.775019",
     "exception": false,
     "start_time": "2022-06-13T12:57:26.166889",
     "status": "completed"
    },
    "tags": []
   },
   "outputs": [
    {
     "name": "stdout",
     "output_type": "stream",
     "text": [
      "Percentage of No Fraud: 99.87%\n",
      "Percentage of Fraud: 0.13%\n"
     ]
    }
   ],
   "source": [
    "#Analyzing no of Frauds and no Frauds\n",
    "NoFraud = len(data[data['isFraud'] == 0])\n",
    "Fraud = len(data[data['isFraud'] == 1])\n",
    "print(\"Percentage of No Fraud: {:.2f}%\".format((NoFraud / (len(data['isFraud']))*100)))\n",
    "print(\"Percentage of Fraud: {:.2f}%\".format((Fraud / (len(data['isFraud']))*100)))"
   ]
  },
  {
   "cell_type": "code",
   "execution_count": 10,
   "id": "5e5293f6",
   "metadata": {
    "execution": {
     "iopub.execute_input": "2022-06-13T12:57:26.800489Z",
     "iopub.status.busy": "2022-06-13T12:57:26.800176Z",
     "iopub.status.idle": "2022-06-13T12:57:28.877106Z",
     "shell.execute_reply": "2022-06-13T12:57:28.876356Z"
    },
    "papermill": {
     "duration": 2.091294,
     "end_time": "2022-06-13T12:57:28.879352",
     "exception": false,
     "start_time": "2022-06-13T12:57:26.788058",
     "status": "completed"
    },
    "tags": []
   },
   "outputs": [
    {
     "data": {
      "text/plain": [
       "step              0\n",
       "type              0\n",
       "amount            0\n",
       "nameOrig          0\n",
       "oldbalanceOrg     0\n",
       "newbalanceOrig    0\n",
       "nameDest          0\n",
       "oldbalanceDest    0\n",
       "newbalanceDest    0\n",
       "isFraud           0\n",
       "isFlaggedFraud    0\n",
       "dtype: int64"
      ]
     },
     "execution_count": 10,
     "metadata": {},
     "output_type": "execute_result"
    }
   ],
   "source": [
    "#Checking if the dataset has any null/missing values or not\n",
    "data.isnull().sum()"
   ]
  },
  {
   "cell_type": "markdown",
   "id": "fadeb389",
   "metadata": {
    "papermill": {
     "duration": 0.011913,
     "end_time": "2022-06-13T12:57:28.902970",
     "exception": false,
     "start_time": "2022-06-13T12:57:28.891057",
     "status": "completed"
    },
    "tags": []
   },
   "source": [
    "So, throughout the dataset there are no null values present."
   ]
  },
  {
   "cell_type": "markdown",
   "id": "ced9a36d",
   "metadata": {
    "papermill": {
     "duration": 0.011479,
     "end_time": "2022-06-13T12:57:28.926246",
     "exception": false,
     "start_time": "2022-06-13T12:57:28.914767",
     "status": "completed"
    },
    "tags": []
   },
   "source": [
    "**Correlation Heatmap**"
   ]
  },
  {
   "cell_type": "code",
   "execution_count": 11,
   "id": "eb96fd46",
   "metadata": {
    "execution": {
     "iopub.execute_input": "2022-06-13T12:57:28.950687Z",
     "iopub.status.busy": "2022-06-13T12:57:28.950363Z",
     "iopub.status.idle": "2022-06-13T12:57:30.800421Z",
     "shell.execute_reply": "2022-06-13T12:57:30.799630Z"
    },
    "papermill": {
     "duration": 1.865149,
     "end_time": "2022-06-13T12:57:30.802800",
     "exception": false,
     "start_time": "2022-06-13T12:57:28.937651",
     "status": "completed"
    },
    "tags": []
   },
   "outputs": [
    {
     "data": {
      "text/plain": [
       "<AxesSubplot:>"
      ]
     },
     "execution_count": 11,
     "metadata": {},
     "output_type": "execute_result"
    },
    {
     "data": {
      "image/png": "[encoded data removed]",
      "text/plain": [
       "<Figure size 720x864 with 2 Axes>"
      ]
     },
     "metadata": {
      "needs_background": "light"
     },
     "output_type": "display_data"
    }
   ],
   "source": [
    "plt.figure(figsize = (10, 12))\n",
    "sns.heatmap(data.corr(), annot = True)"
   ]
  },
  {
   "cell_type": "code",
   "execution_count": 12,
   "id": "6c832ff9",
   "metadata": {
    "execution": {
     "iopub.execute_input": "2022-06-13T12:57:30.829946Z",
     "iopub.status.busy": "2022-06-13T12:57:30.829662Z",
     "iopub.status.idle": "2022-06-13T12:57:31.716854Z",
     "shell.execute_reply": "2022-06-13T12:57:31.716070Z"
    },
    "papermill": {
     "duration": 0.902997,
     "end_time": "2022-06-13T12:57:31.718725",
     "exception": false,
     "start_time": "2022-06-13T12:57:30.815728",
     "status": "completed"
    },
    "tags": []
   },
   "outputs": [
    {
     "data": {
      "text/plain": [
       "CASH_OUT    2237500\n",
       "PAYMENT     2151495\n",
       "CASH_IN     1399284\n",
       "TRANSFER     532909\n",
       "DEBIT         41432\n",
       "Name: type, dtype: int64"
      ]
     },
     "execution_count": 12,
     "metadata": {},
     "output_type": "execute_result"
    }
   ],
   "source": [
    "data['type'].value_counts()"
   ]
  },
  {
   "cell_type": "code",
   "execution_count": 13,
   "id": "3236bb71",
   "metadata": {
    "execution": {
     "iopub.execute_input": "2022-06-13T12:57:31.746164Z",
     "iopub.status.busy": "2022-06-13T12:57:31.745884Z",
     "iopub.status.idle": "2022-06-13T12:57:38.662998Z",
     "shell.execute_reply": "2022-06-13T12:57:38.662262Z"
    },
    "papermill": {
     "duration": 6.933358,
     "end_time": "2022-06-13T12:57:38.665554",
     "exception": false,
     "start_time": "2022-06-13T12:57:31.732196",
     "status": "completed"
    },
    "tags": []
   },
   "outputs": [
    {
     "data": {
      "text/plain": [
       "<AxesSubplot:xlabel='type', ylabel='count'>"
      ]
     },
     "execution_count": 13,
     "metadata": {},
     "output_type": "execute_result"
    },
    {
     "data": {
      "image/png": "[encoded data removed]",
      "text/plain": [
       "<Figure size 720x864 with 1 Axes>"
      ]
     },
     "metadata": {
      "needs_background": "light"
     },
     "output_type": "display_data"
    }
   ],
   "source": [
    "plt.figure(figsize = (10, 12))\n",
    "sns.countplot(data['type'])"
   ]
  },
  {
   "cell_type": "markdown",
   "id": "05e0dbd8",
   "metadata": {
    "papermill": {
     "duration": 0.022727,
     "end_time": "2022-06-13T12:57:38.712404",
     "exception": false,
     "start_time": "2022-06-13T12:57:38.689677",
     "status": "completed"
    },
    "tags": []
   },
   "source": [
    "**No of Transactions of each type**"
   ]
  },
  {
   "cell_type": "code",
   "execution_count": 14,
   "id": "d7739cce",
   "metadata": {
    "execution": {
     "iopub.execute_input": "2022-06-13T12:57:38.759349Z",
     "iopub.status.busy": "2022-06-13T12:57:38.758852Z",
     "iopub.status.idle": "2022-06-13T12:57:38.972413Z",
     "shell.execute_reply": "2022-06-13T12:57:38.971656Z"
    },
    "papermill": {
     "duration": 0.239059,
     "end_time": "2022-06-13T12:57:38.974196",
     "exception": false,
     "start_time": "2022-06-13T12:57:38.735137",
     "status": "completed"
    },
    "tags": []
   },
   "outputs": [
    {
     "data": {
      "text/plain": [
       "<AxesSubplot:xlabel='type', ylabel='count'>"
      ]
     },
     "execution_count": 14,
     "metadata": {},
     "output_type": "execute_result"
    },
    {
     "data": {
      "image/png": "[encoded data removed]",
      "text/plain": [
       "<Figure size 432x288 with 1 Axes>"
      ]
     },
     "metadata": {
      "needs_background": "light"
     },
     "output_type": "display_data"
    }
   ],
   "source": [
    "sns.countplot(data[data['isFraud'] == 1]['type'])"
   ]
  },
  {
   "cell_type": "markdown",
   "id": "b6943da4",
   "metadata": {
    "papermill": {
     "duration": 0.013251,
     "end_time": "2022-06-13T12:57:39.001528",
     "exception": false,
     "start_time": "2022-06-13T12:57:38.988277",
     "status": "completed"
    },
    "tags": []
   },
   "source": [
    "Therefore. it is evident that whenever a fraud takes place, the transaction type are 'Transfer' and 'Cash Out'"
   ]
  },
  {
   "cell_type": "code",
   "execution_count": 15,
   "id": "1e23bf95",
   "metadata": {
    "execution": {
     "iopub.execute_input": "2022-06-13T12:57:39.030107Z",
     "iopub.status.busy": "2022-06-13T12:57:39.029451Z",
     "iopub.status.idle": "2022-06-13T12:57:39.916028Z",
     "shell.execute_reply": "2022-06-13T12:57:39.915218Z"
    },
    "papermill": {
     "duration": 0.902833,
     "end_time": "2022-06-13T12:57:39.917875",
     "exception": false,
     "start_time": "2022-06-13T12:57:39.015042",
     "status": "completed"
    },
    "tags": []
   },
   "outputs": [
    {
     "data": {
      "text/plain": [
       "CASH_OUT    2237500\n",
       "PAYMENT     2151495\n",
       "CASH_IN     1399284\n",
       "TRANSFER     532909\n",
       "DEBIT         41432\n",
       "Name: type, dtype: int64"
      ]
     },
     "execution_count": 15,
     "metadata": {},
     "output_type": "execute_result"
    }
   ],
   "source": [
    "data['type'].value_counts()"
   ]
  },
  {
   "cell_type": "code",
   "execution_count": 16,
   "id": "18ad8b26",
   "metadata": {
    "execution": {
     "iopub.execute_input": "2022-06-13T12:57:39.945646Z",
     "iopub.status.busy": "2022-06-13T12:57:39.945038Z",
     "iopub.status.idle": "2022-06-13T12:58:27.841082Z",
     "shell.execute_reply": "2022-06-13T12:58:27.840272Z"
    },
    "papermill": {
     "duration": 47.926096,
     "end_time": "2022-06-13T12:58:27.857336",
     "exception": false,
     "start_time": "2022-06-13T12:57:39.931240",
     "status": "completed"
    },
    "tags": []
   },
   "outputs": [
    {
     "data": {
      "text/html": [
       "<div>\n",
       "<style scoped>\n",
       "    .dataframe tbody tr th:only-of-type {\n",
       "        vertical-align: middle;\n",
       "    }\n",
       "\n",
       "    .dataframe tbody tr th {\n",
       "        vertical-align: top;\n",
       "    }\n",
       "\n",
       "    .dataframe thead th {\n",
       "        text-align: right;\n",
       "    }\n",
       "</style>\n",
       "<table border=\"1\" class=\"dataframe\">\n",
       "  <thead>\n",
       "    <tr style=\"text-align: right;\">\n",
       "      <th></th>\n",
       "      <th>step</th>\n",
       "      <th>type</th>\n",
       "      <th>amount</th>\n",
       "      <th>nameOrig</th>\n",
       "      <th>oldbalanceOrg</th>\n",
       "      <th>newbalanceOrig</th>\n",
       "      <th>nameDest</th>\n",
       "      <th>oldbalanceDest</th>\n",
       "      <th>newbalanceDest</th>\n",
       "      <th>isFraud</th>\n",
       "      <th>isFlaggedFraud</th>\n",
       "    </tr>\n",
       "  </thead>\n",
       "  <tbody>\n",
       "    <tr>\n",
       "      <th>0</th>\n",
       "      <td>1</td>\n",
       "      <td>3</td>\n",
       "      <td>9839.64</td>\n",
       "      <td>757869</td>\n",
       "      <td>170136.00</td>\n",
       "      <td>160296.36</td>\n",
       "      <td>1662094</td>\n",
       "      <td>0.00</td>\n",
       "      <td>0.00</td>\n",
       "      <td>0</td>\n",
       "      <td>0</td>\n",
       "    </tr>\n",
       "    <tr>\n",
       "      <th>1</th>\n",
       "      <td>1</td>\n",
       "      <td>3</td>\n",
       "      <td>1864.28</td>\n",
       "      <td>2188998</td>\n",
       "      <td>21249.00</td>\n",
       "      <td>19384.72</td>\n",
       "      <td>1733924</td>\n",
       "      <td>0.00</td>\n",
       "      <td>0.00</td>\n",
       "      <td>0</td>\n",
       "      <td>0</td>\n",
       "    </tr>\n",
       "    <tr>\n",
       "      <th>2</th>\n",
       "      <td>1</td>\n",
       "      <td>4</td>\n",
       "      <td>181.00</td>\n",
       "      <td>1002156</td>\n",
       "      <td>181.00</td>\n",
       "      <td>0.00</td>\n",
       "      <td>439685</td>\n",
       "      <td>0.00</td>\n",
       "      <td>0.00</td>\n",
       "      <td>1</td>\n",
       "      <td>0</td>\n",
       "    </tr>\n",
       "    <tr>\n",
       "      <th>3</th>\n",
       "      <td>1</td>\n",
       "      <td>1</td>\n",
       "      <td>181.00</td>\n",
       "      <td>5828262</td>\n",
       "      <td>181.00</td>\n",
       "      <td>0.00</td>\n",
       "      <td>391696</td>\n",
       "      <td>21182.00</td>\n",
       "      <td>0.00</td>\n",
       "      <td>1</td>\n",
       "      <td>0</td>\n",
       "    </tr>\n",
       "    <tr>\n",
       "      <th>4</th>\n",
       "      <td>1</td>\n",
       "      <td>3</td>\n",
       "      <td>11668.14</td>\n",
       "      <td>3445981</td>\n",
       "      <td>41554.00</td>\n",
       "      <td>29885.86</td>\n",
       "      <td>828919</td>\n",
       "      <td>0.00</td>\n",
       "      <td>0.00</td>\n",
       "      <td>0</td>\n",
       "      <td>0</td>\n",
       "    </tr>\n",
       "    <tr>\n",
       "      <th>...</th>\n",
       "      <td>...</td>\n",
       "      <td>...</td>\n",
       "      <td>...</td>\n",
       "      <td>...</td>\n",
       "      <td>...</td>\n",
       "      <td>...</td>\n",
       "      <td>...</td>\n",
       "      <td>...</td>\n",
       "      <td>...</td>\n",
       "      <td>...</td>\n",
       "      <td>...</td>\n",
       "    </tr>\n",
       "    <tr>\n",
       "      <th>6362615</th>\n",
       "      <td>743</td>\n",
       "      <td>1</td>\n",
       "      <td>339682.13</td>\n",
       "      <td>5651847</td>\n",
       "      <td>339682.13</td>\n",
       "      <td>0.00</td>\n",
       "      <td>505863</td>\n",
       "      <td>0.00</td>\n",
       "      <td>339682.13</td>\n",
       "      <td>1</td>\n",
       "      <td>0</td>\n",
       "    </tr>\n",
       "    <tr>\n",
       "      <th>6362616</th>\n",
       "      <td>743</td>\n",
       "      <td>4</td>\n",
       "      <td>6311409.28</td>\n",
       "      <td>1737278</td>\n",
       "      <td>6311409.28</td>\n",
       "      <td>0.00</td>\n",
       "      <td>260949</td>\n",
       "      <td>0.00</td>\n",
       "      <td>0.00</td>\n",
       "      <td>1</td>\n",
       "      <td>0</td>\n",
       "    </tr>\n",
       "    <tr>\n",
       "      <th>6362617</th>\n",
       "      <td>743</td>\n",
       "      <td>1</td>\n",
       "      <td>6311409.28</td>\n",
       "      <td>533958</td>\n",
       "      <td>6311409.28</td>\n",
       "      <td>0.00</td>\n",
       "      <td>108224</td>\n",
       "      <td>68488.84</td>\n",
       "      <td>6379898.11</td>\n",
       "      <td>1</td>\n",
       "      <td>0</td>\n",
       "    </tr>\n",
       "    <tr>\n",
       "      <th>6362618</th>\n",
       "      <td>743</td>\n",
       "      <td>4</td>\n",
       "      <td>850002.52</td>\n",
       "      <td>2252932</td>\n",
       "      <td>850002.52</td>\n",
       "      <td>0.00</td>\n",
       "      <td>319713</td>\n",
       "      <td>0.00</td>\n",
       "      <td>0.00</td>\n",
       "      <td>1</td>\n",
       "      <td>0</td>\n",
       "    </tr>\n",
       "    <tr>\n",
       "      <th>6362619</th>\n",
       "      <td>743</td>\n",
       "      <td>1</td>\n",
       "      <td>850002.52</td>\n",
       "      <td>919229</td>\n",
       "      <td>850002.52</td>\n",
       "      <td>0.00</td>\n",
       "      <td>534595</td>\n",
       "      <td>6510099.11</td>\n",
       "      <td>7360101.63</td>\n",
       "      <td>1</td>\n",
       "      <td>0</td>\n",
       "    </tr>\n",
       "  </tbody>\n",
       "</table>\n",
       "<p>6362620 rows × 11 columns</p>\n",
       "</div>"
      ],
      "text/plain": [
       "         step  type      amount  nameOrig  oldbalanceOrg  newbalanceOrig  \\\n",
       "0           1     3     9839.64    757869      170136.00       160296.36   \n",
       "1           1     3     1864.28   2188998       21249.00        19384.72   \n",
       "2           1     4      181.00   1002156         181.00            0.00   \n",
       "3           1     1      181.00   5828262         181.00            0.00   \n",
       "4           1     3    11668.14   3445981       41554.00        29885.86   \n",
       "...       ...   ...         ...       ...            ...             ...   \n",
       "6362615   743     1   339682.13   5651847      339682.13            0.00   \n",
       "6362616   743     4  6311409.28   1737278     6311409.28            0.00   \n",
       "6362617   743     1  6311409.28    533958     6311409.28            0.00   \n",
       "6362618   743     4   850002.52   2252932      850002.52            0.00   \n",
       "6362619   743     1   850002.52    919229      850002.52            0.00   \n",
       "\n",
       "         nameDest  oldbalanceDest  newbalanceDest  isFraud  isFlaggedFraud  \n",
       "0         1662094            0.00            0.00        0               0  \n",
       "1         1733924            0.00            0.00        0               0  \n",
       "2          439685            0.00            0.00        1               0  \n",
       "3          391696        21182.00            0.00        1               0  \n",
       "4          828919            0.00            0.00        0               0  \n",
       "...           ...             ...             ...      ...             ...  \n",
       "6362615    505863            0.00       339682.13        1               0  \n",
       "6362616    260949            0.00            0.00        1               0  \n",
       "6362617    108224        68488.84      6379898.11        1               0  \n",
       "6362618    319713            0.00            0.00        1               0  \n",
       "6362619    534595      6510099.11      7360101.63        1               0  \n",
       "\n",
       "[6362620 rows x 11 columns]"
      ]
     },
     "execution_count": 16,
     "metadata": {},
     "output_type": "execute_result"
    }
   ],
   "source": [
    "from sklearn.preprocessing import LabelEncoder\n",
    "le = LabelEncoder()\n",
    "Object = data[['type', 'nameOrig', 'nameDest']]\n",
    "for i in Object:\n",
    "    data[i] = le.fit_transform(data[i])\n",
    "data"
   ]
  },
  {
   "cell_type": "code",
   "execution_count": 17,
   "id": "1412866b",
   "metadata": {
    "execution": {
     "iopub.execute_input": "2022-06-13T12:58:27.887617Z",
     "iopub.status.busy": "2022-06-13T12:58:27.886980Z",
     "iopub.status.idle": "2022-06-13T12:58:27.898162Z",
     "shell.execute_reply": "2022-06-13T12:58:27.896583Z"
    },
    "papermill": {
     "duration": 0.028917,
     "end_time": "2022-06-13T12:58:27.900846",
     "exception": false,
     "start_time": "2022-06-13T12:58:27.871929",
     "status": "completed"
    },
    "tags": []
   },
   "outputs": [
    {
     "name": "stdout",
     "output_type": "stream",
     "text": [
      "<class 'pandas.core.frame.DataFrame'>\n",
      "RangeIndex: 6362620 entries, 0 to 6362619\n",
      "Data columns (total 11 columns):\n",
      " #   Column          Dtype  \n",
      "---  ------          -----  \n",
      " 0   step            int64  \n",
      " 1   type            int64  \n",
      " 2   amount          float64\n",
      " 3   nameOrig        int64  \n",
      " 4   oldbalanceOrg   float64\n",
      " 5   newbalanceOrig  float64\n",
      " 6   nameDest        int64  \n",
      " 7   oldbalanceDest  float64\n",
      " 8   newbalanceDest  float64\n",
      " 9   isFraud         int64  \n",
      " 10  isFlaggedFraud  int64  \n",
      "dtypes: float64(5), int64(6)\n",
      "memory usage: 534.0 MB\n"
     ]
    }
   ],
   "source": [
    "#Data info after update\n",
    "data.info()"
   ]
  },
  {
   "cell_type": "code",
   "execution_count": 18,
   "id": "5b022bd0",
   "metadata": {
    "execution": {
     "iopub.execute_input": "2022-06-13T12:58:27.930950Z",
     "iopub.status.busy": "2022-06-13T12:58:27.930490Z",
     "iopub.status.idle": "2022-06-13T12:58:28.462712Z",
     "shell.execute_reply": "2022-06-13T12:58:28.461895Z"
    },
    "papermill": {
     "duration": 0.548573,
     "end_time": "2022-06-13T12:58:28.464585",
     "exception": false,
     "start_time": "2022-06-13T12:58:27.916012",
     "status": "completed"
    },
    "tags": []
   },
   "outputs": [
    {
     "data": {
      "text/plain": [
       "<AxesSubplot:xlabel='amount', ylabel='Density'>"
      ]
     },
     "execution_count": 18,
     "metadata": {},
     "output_type": "execute_result"
    },
    {
     "data": {
      "image/png": "[encoded data removed]",
      "text/plain": [
       "<Figure size 432x288 with 1 Axes>"
      ]
     },
     "metadata": {
      "needs_background": "light"
     },
     "output_type": "display_data"
    }
   ],
   "source": [
    "#Amount Distribution when Fraud Takes Place\n",
    "sns.distplot(data[data['isFraud'] == 1]['amount'])"
   ]
  },
  {
   "cell_type": "code",
   "execution_count": 19,
   "id": "82b29f7c",
   "metadata": {
    "execution": {
     "iopub.execute_input": "2022-06-13T12:58:28.493914Z",
     "iopub.status.busy": "2022-06-13T12:58:28.493598Z",
     "iopub.status.idle": "2022-06-13T12:58:28.510215Z",
     "shell.execute_reply": "2022-06-13T12:58:28.509405Z"
    },
    "papermill": {
     "duration": 0.032916,
     "end_time": "2022-06-13T12:58:28.511891",
     "exception": false,
     "start_time": "2022-06-13T12:58:28.478975",
     "status": "completed"
    },
    "tags": []
   },
   "outputs": [
    {
     "data": {
      "text/plain": [
       "57504     2\n",
       "11957     2\n",
       "296180    2\n",
       "147473    2\n",
       "178026    2\n",
       "         ..\n",
       "370402    1\n",
       "348099    1\n",
       "15781     1\n",
       "299819    1\n",
       "534595    1\n",
       "Name: nameDest, Length: 8169, dtype: int64"
      ]
     },
     "execution_count": 19,
     "metadata": {},
     "output_type": "execute_result"
    }
   ],
   "source": [
    "data[data['isFraud'] == 1]['nameDest'].value_counts()"
   ]
  },
  {
   "cell_type": "code",
   "execution_count": 20,
   "id": "c7019726",
   "metadata": {
    "execution": {
     "iopub.execute_input": "2022-06-13T12:58:28.541658Z",
     "iopub.status.busy": "2022-06-13T12:58:28.541070Z",
     "iopub.status.idle": "2022-06-13T12:58:28.544908Z",
     "shell.execute_reply": "2022-06-13T12:58:28.544223Z"
    },
    "papermill": {
     "duration": 0.020398,
     "end_time": "2022-06-13T12:58:28.546606",
     "exception": false,
     "start_time": "2022-06-13T12:58:28.526208",
     "status": "completed"
    },
    "tags": []
   },
   "outputs": [],
   "source": [
    "numerical = ['amount', 'oldbalanceOrg', 'newbalanceOrig', 'oldbalanceDest', 'newbalanceDest']"
   ]
  },
  {
   "cell_type": "markdown",
   "id": "679a00c9",
   "metadata": {
    "papermill": {
     "duration": 0.013797,
     "end_time": "2022-06-13T12:58:28.574581",
     "exception": false,
     "start_time": "2022-06-13T12:58:28.560784",
     "status": "completed"
    },
    "tags": []
   },
   "source": [
    "**OUTLIER DETECTION**"
   ]
  },
  {
   "cell_type": "code",
   "execution_count": 21,
   "id": "0935b358",
   "metadata": {
    "execution": {
     "iopub.execute_input": "2022-06-13T12:58:28.603987Z",
     "iopub.status.busy": "2022-06-13T12:58:28.603460Z",
     "iopub.status.idle": "2022-06-13T12:58:28.610050Z",
     "shell.execute_reply": "2022-06-13T12:58:28.609376Z"
    },
    "papermill": {
     "duration": 0.023352,
     "end_time": "2022-06-13T12:58:28.611658",
     "exception": false,
     "start_time": "2022-06-13T12:58:28.588306",
     "status": "completed"
    },
    "tags": []
   },
   "outputs": [],
   "source": [
    "from collections import Counter\n",
    "\n",
    "def detect_outliers(data,features):\n",
    "    outlier_indices = []\n",
    "    \n",
    "    for c in features:\n",
    "        # 1st quartile\n",
    "        Q1 = np.percentile(data[c],25)\n",
    "        # 3rd quartile\n",
    "        Q3 = np.percentile(data[c],75)\n",
    "        # IQR\n",
    "        IQR = Q3 - Q1\n",
    "        # Outlier step\n",
    "        outlier_step = IQR * 1.5\n",
    "        # detect outlier and their indeces\n",
    "        outlier_list_columns = data[(data[c] < Q1 - outlier_step) | (data[c] > Q3 + outlier_step)].index\n",
    "        # store indeces\n",
    "        outlier_indices.extend(outlier_list_columns)\n",
    "    \n",
    "    outlier_indices = Counter(outlier_indices)\n",
    "    multiple_outliers = list(i for i, v in outlier_indices.items() if v > 2)\n",
    "    \n",
    "    return multiple_outliers"
   ]
  },
  {
   "cell_type": "code",
   "execution_count": 22,
   "id": "6e509c11",
   "metadata": {
    "execution": {
     "iopub.execute_input": "2022-06-13T12:58:28.641176Z",
     "iopub.status.busy": "2022-06-13T12:58:28.640704Z",
     "iopub.status.idle": "2022-06-13T12:58:31.158814Z",
     "shell.execute_reply": "2022-06-13T12:58:31.158047Z"
    },
    "papermill": {
     "duration": 2.535,
     "end_time": "2022-06-13T12:58:31.161048",
     "exception": false,
     "start_time": "2022-06-13T12:58:28.626048",
     "status": "completed"
    },
    "tags": []
   },
   "outputs": [
    {
     "data": {
      "text/html": [
       "<div>\n",
       "<style scoped>\n",
       "    .dataframe tbody tr th:only-of-type {\n",
       "        vertical-align: middle;\n",
       "    }\n",
       "\n",
       "    .dataframe tbody tr th {\n",
       "        vertical-align: top;\n",
       "    }\n",
       "\n",
       "    .dataframe thead th {\n",
       "        text-align: right;\n",
       "    }\n",
       "</style>\n",
       "<table border=\"1\" class=\"dataframe\">\n",
       "  <thead>\n",
       "    <tr style=\"text-align: right;\">\n",
       "      <th></th>\n",
       "      <th>step</th>\n",
       "      <th>type</th>\n",
       "      <th>amount</th>\n",
       "      <th>nameOrig</th>\n",
       "      <th>oldbalanceOrg</th>\n",
       "      <th>newbalanceOrig</th>\n",
       "      <th>nameDest</th>\n",
       "      <th>oldbalanceDest</th>\n",
       "      <th>newbalanceDest</th>\n",
       "      <th>isFraud</th>\n",
       "      <th>isFlaggedFraud</th>\n",
       "    </tr>\n",
       "  </thead>\n",
       "  <tbody>\n",
       "    <tr>\n",
       "      <th>94</th>\n",
       "      <td>1</td>\n",
       "      <td>4</td>\n",
       "      <td>1724887.05</td>\n",
       "      <td>1627280</td>\n",
       "      <td>0.0</td>\n",
       "      <td>0.00</td>\n",
       "      <td>174831</td>\n",
       "      <td>3470595.10</td>\n",
       "      <td>19169204.93</td>\n",
       "      <td>0</td>\n",
       "      <td>0</td>\n",
       "    </tr>\n",
       "    <tr>\n",
       "      <th>96</th>\n",
       "      <td>1</td>\n",
       "      <td>4</td>\n",
       "      <td>581294.26</td>\n",
       "      <td>5838793</td>\n",
       "      <td>0.0</td>\n",
       "      <td>0.00</td>\n",
       "      <td>174831</td>\n",
       "      <td>5195482.15</td>\n",
       "      <td>19169204.93</td>\n",
       "      <td>0</td>\n",
       "      <td>0</td>\n",
       "    </tr>\n",
       "    <tr>\n",
       "      <th>289</th>\n",
       "      <td>1</td>\n",
       "      <td>1</td>\n",
       "      <td>691738.36</td>\n",
       "      <td>1688425</td>\n",
       "      <td>0.0</td>\n",
       "      <td>0.00</td>\n",
       "      <td>174831</td>\n",
       "      <td>6285707.02</td>\n",
       "      <td>19169204.93</td>\n",
       "      <td>0</td>\n",
       "      <td>0</td>\n",
       "    </tr>\n",
       "    <tr>\n",
       "      <th>358</th>\n",
       "      <td>1</td>\n",
       "      <td>4</td>\n",
       "      <td>1538200.39</td>\n",
       "      <td>4631291</td>\n",
       "      <td>0.0</td>\n",
       "      <td>0.00</td>\n",
       "      <td>174831</td>\n",
       "      <td>6977445.38</td>\n",
       "      <td>19169204.93</td>\n",
       "      <td>0</td>\n",
       "      <td>0</td>\n",
       "    </tr>\n",
       "    <tr>\n",
       "      <th>359</th>\n",
       "      <td>1</td>\n",
       "      <td>4</td>\n",
       "      <td>2421578.09</td>\n",
       "      <td>206121</td>\n",
       "      <td>0.0</td>\n",
       "      <td>0.00</td>\n",
       "      <td>174831</td>\n",
       "      <td>8515645.77</td>\n",
       "      <td>19169204.93</td>\n",
       "      <td>0</td>\n",
       "      <td>0</td>\n",
       "    </tr>\n",
       "    <tr>\n",
       "      <th>...</th>\n",
       "      <td>...</td>\n",
       "      <td>...</td>\n",
       "      <td>...</td>\n",
       "      <td>...</td>\n",
       "      <td>...</td>\n",
       "      <td>...</td>\n",
       "      <td>...</td>\n",
       "      <td>...</td>\n",
       "      <td>...</td>\n",
       "      <td>...</td>\n",
       "      <td>...</td>\n",
       "    </tr>\n",
       "    <tr>\n",
       "      <th>6356167</th>\n",
       "      <td>709</td>\n",
       "      <td>0</td>\n",
       "      <td>423698.68</td>\n",
       "      <td>2481658</td>\n",
       "      <td>37386.0</td>\n",
       "      <td>461084.68</td>\n",
       "      <td>343854</td>\n",
       "      <td>4089097.88</td>\n",
       "      <td>3665399.21</td>\n",
       "      <td>0</td>\n",
       "      <td>0</td>\n",
       "    </tr>\n",
       "    <tr>\n",
       "      <th>6356631</th>\n",
       "      <td>710</td>\n",
       "      <td>0</td>\n",
       "      <td>409659.76</td>\n",
       "      <td>3007615</td>\n",
       "      <td>61870.0</td>\n",
       "      <td>471529.76</td>\n",
       "      <td>344188</td>\n",
       "      <td>3983273.45</td>\n",
       "      <td>3573613.69</td>\n",
       "      <td>0</td>\n",
       "      <td>0</td>\n",
       "    </tr>\n",
       "    <tr>\n",
       "      <th>6356839</th>\n",
       "      <td>710</td>\n",
       "      <td>0</td>\n",
       "      <td>308172.00</td>\n",
       "      <td>3378815</td>\n",
       "      <td>149018.0</td>\n",
       "      <td>457190.00</td>\n",
       "      <td>383488</td>\n",
       "      <td>3461432.21</td>\n",
       "      <td>3153260.20</td>\n",
       "      <td>0</td>\n",
       "      <td>0</td>\n",
       "    </tr>\n",
       "    <tr>\n",
       "      <th>6359744</th>\n",
       "      <td>715</td>\n",
       "      <td>0</td>\n",
       "      <td>287886.12</td>\n",
       "      <td>874638</td>\n",
       "      <td>227422.0</td>\n",
       "      <td>515308.12</td>\n",
       "      <td>35512</td>\n",
       "      <td>7004998.18</td>\n",
       "      <td>6717112.06</td>\n",
       "      <td>0</td>\n",
       "      <td>0</td>\n",
       "    </tr>\n",
       "    <tr>\n",
       "      <th>6361788</th>\n",
       "      <td>718</td>\n",
       "      <td>0</td>\n",
       "      <td>356716.89</td>\n",
       "      <td>5092700</td>\n",
       "      <td>8224.0</td>\n",
       "      <td>364940.89</td>\n",
       "      <td>293119</td>\n",
       "      <td>15316484.39</td>\n",
       "      <td>14959767.50</td>\n",
       "      <td>0</td>\n",
       "      <td>0</td>\n",
       "    </tr>\n",
       "  </tbody>\n",
       "</table>\n",
       "<p>331565 rows × 11 columns</p>\n",
       "</div>"
      ],
      "text/plain": [
       "         step  type      amount  nameOrig  oldbalanceOrg  newbalanceOrig  \\\n",
       "94          1     4  1724887.05   1627280            0.0            0.00   \n",
       "96          1     4   581294.26   5838793            0.0            0.00   \n",
       "289         1     1   691738.36   1688425            0.0            0.00   \n",
       "358         1     4  1538200.39   4631291            0.0            0.00   \n",
       "359         1     4  2421578.09    206121            0.0            0.00   \n",
       "...       ...   ...         ...       ...            ...             ...   \n",
       "6356167   709     0   423698.68   2481658        37386.0       461084.68   \n",
       "6356631   710     0   409659.76   3007615        61870.0       471529.76   \n",
       "6356839   710     0   308172.00   3378815       149018.0       457190.00   \n",
       "6359744   715     0   287886.12    874638       227422.0       515308.12   \n",
       "6361788   718     0   356716.89   5092700         8224.0       364940.89   \n",
       "\n",
       "         nameDest  oldbalanceDest  newbalanceDest  isFraud  isFlaggedFraud  \n",
       "94         174831      3470595.10     19169204.93        0               0  \n",
       "96         174831      5195482.15     19169204.93        0               0  \n",
       "289        174831      6285707.02     19169204.93        0               0  \n",
       "358        174831      6977445.38     19169204.93        0               0  \n",
       "359        174831      8515645.77     19169204.93        0               0  \n",
       "...           ...             ...             ...      ...             ...  \n",
       "6356167    343854      4089097.88      3665399.21        0               0  \n",
       "6356631    344188      3983273.45      3573613.69        0               0  \n",
       "6356839    383488      3461432.21      3153260.20        0               0  \n",
       "6359744     35512      7004998.18      6717112.06        0               0  \n",
       "6361788    293119     15316484.39     14959767.50        0               0  \n",
       "\n",
       "[331565 rows x 11 columns]"
      ]
     },
     "execution_count": 22,
     "metadata": {},
     "output_type": "execute_result"
    }
   ],
   "source": [
    "data.loc[detect_outliers(data,numerical)]"
   ]
  },
  {
   "cell_type": "code",
   "execution_count": 23,
   "id": "e9f929d7",
   "metadata": {
    "execution": {
     "iopub.execute_input": "2022-06-13T12:58:31.192386Z",
     "iopub.status.busy": "2022-06-13T12:58:31.192094Z",
     "iopub.status.idle": "2022-06-13T12:58:34.500345Z",
     "shell.execute_reply": "2022-06-13T12:58:34.499480Z"
    },
    "papermill": {
     "duration": 3.326139,
     "end_time": "2022-06-13T12:58:34.502544",
     "exception": false,
     "start_time": "2022-06-13T12:58:31.176405",
     "status": "completed"
    },
    "tags": []
   },
   "outputs": [],
   "source": [
    "#Removing outliers from the dataset\n",
    "data = data.drop(detect_outliers(data,numerical),axis = 0).reset_index(drop = True)"
   ]
  },
  {
   "cell_type": "markdown",
   "id": "79b410d5",
   "metadata": {
    "papermill": {
     "duration": 0.014216,
     "end_time": "2022-06-13T12:58:34.532250",
     "exception": false,
     "start_time": "2022-06-13T12:58:34.518034",
     "status": "completed"
    },
    "tags": []
   },
   "source": [
    "**Scatterplot Heatmap**"
   ]
  },
  {
   "cell_type": "code",
   "execution_count": 24,
   "id": "18f82467",
   "metadata": {
    "execution": {
     "iopub.execute_input": "2022-06-13T12:58:34.563921Z",
     "iopub.status.busy": "2022-06-13T12:58:34.563174Z",
     "iopub.status.idle": "2022-06-13T12:58:37.393564Z",
     "shell.execute_reply": "2022-06-13T12:58:37.392760Z"
    },
    "papermill": {
     "duration": 2.848826,
     "end_time": "2022-06-13T12:58:37.396178",
     "exception": false,
     "start_time": "2022-06-13T12:58:34.547352",
     "status": "completed"
    },
    "tags": []
   },
   "outputs": [
    {
     "data": {
      "text/plain": [
       "<Figure size 864x864 with 0 Axes>"
      ]
     },
     "metadata": {},
     "output_type": "display_data"
    },
    {
     "data": {
      "image/png": "[encoded data removed]",
      "text/plain": [
       "<Figure size 786.625x720 with 1 Axes>"
      ]
     },
     "metadata": {
      "needs_background": "light"
     },
     "output_type": "display_data"
    }
   ],
   "source": [
    "fig = plt.figure(figsize=(12,12))\n",
    "corr_mat = data.corr().stack().reset_index(name=\"correlation\")\n",
    "g = sns.relplot(\n",
    "    data=corr_mat,\n",
    "    x=\"level_0\", y=\"level_1\", hue=\"correlation\", size=\"correlation\",\n",
    "    palette=\"YlGnBu\", hue_norm=(-1, 1), edgecolor=\".7\",\n",
    "    height=10, sizes=(50, 250), size_norm=(-.2, .8),\n",
    ")\n",
    "g.fig.suptitle('Scatterplot heatmap',fontsize=22, fontweight='bold', fontfamily='serif', color=\"#000000\")\n",
    "g.despine(left=True, bottom=True)\n",
    "g.ax.margins(.02)\n",
    "for label in g.ax.get_xticklabels():\n",
    "    label.set_rotation(90)\n",
    "for artist in g.legend.legendHandles:\n",
    "    artist.set_edgecolor(\".7\")\n",
    "plt.show()"
   ]
  },
  {
   "cell_type": "code",
   "execution_count": 25,
   "id": "f8b6e8a3",
   "metadata": {
    "execution": {
     "iopub.execute_input": "2022-06-13T12:58:37.430591Z",
     "iopub.status.busy": "2022-06-13T12:58:37.430248Z",
     "iopub.status.idle": "2022-06-13T12:58:37.541361Z",
     "shell.execute_reply": "2022-06-13T12:58:37.540440Z"
    },
    "papermill": {
     "duration": 0.130311,
     "end_time": "2022-06-13T12:58:37.543145",
     "exception": false,
     "start_time": "2022-06-13T12:58:37.412834",
     "status": "completed"
    },
    "tags": []
   },
   "outputs": [],
   "source": [
    "X = data.drop(['isFraud', 'isFlaggedFraud', 'nameOrig', 'nameDest'], axis  = 1)\n",
    "y= data['isFraud']"
   ]
  },
  {
   "cell_type": "code",
   "execution_count": 26,
   "id": "cd42c509",
   "metadata": {
    "execution": {
     "iopub.execute_input": "2022-06-13T12:58:37.576310Z",
     "iopub.status.busy": "2022-06-13T12:58:37.576016Z",
     "iopub.status.idle": "2022-06-13T12:58:37.583944Z",
     "shell.execute_reply": "2022-06-13T12:58:37.583113Z"
    },
    "papermill": {
     "duration": 0.026417,
     "end_time": "2022-06-13T12:58:37.585794",
     "exception": false,
     "start_time": "2022-06-13T12:58:37.559377",
     "status": "completed"
    },
    "tags": []
   },
   "outputs": [
    {
     "data": {
      "text/plain": [
       "['step',\n",
       " 'type',\n",
       " 'amount',\n",
       " 'oldbalanceOrg',\n",
       " 'newbalanceOrig',\n",
       " 'oldbalanceDest',\n",
       " 'newbalanceDest']"
      ]
     },
     "execution_count": 26,
     "metadata": {},
     "output_type": "execute_result"
    }
   ],
   "source": [
    "numerical = [feature for feature in X.columns if X[feature].dtype == 'int64' or X[feature].dtype == 'float64']\n",
    "numerical"
   ]
  },
  {
   "cell_type": "markdown",
   "id": "a796b202",
   "metadata": {
    "papermill": {
     "duration": 0.015423,
     "end_time": "2022-06-13T12:58:37.616645",
     "exception": false,
     "start_time": "2022-06-13T12:58:37.601222",
     "status": "completed"
    },
    "tags": []
   },
   "source": [
    "**Scaling the dataset**"
   ]
  },
  {
   "cell_type": "code",
   "execution_count": 27,
   "id": "b4c031cf",
   "metadata": {
    "execution": {
     "iopub.execute_input": "2022-06-13T12:58:37.648668Z",
     "iopub.status.busy": "2022-06-13T12:58:37.648390Z",
     "iopub.status.idle": "2022-06-13T12:58:39.628402Z",
     "shell.execute_reply": "2022-06-13T12:58:39.627484Z"
    },
    "papermill": {
     "duration": 1.998735,
     "end_time": "2022-06-13T12:58:39.630700",
     "exception": false,
     "start_time": "2022-06-13T12:58:37.631965",
     "status": "completed"
    },
    "tags": []
   },
   "outputs": [],
   "source": [
    "scaler = RobustScaler()\n",
    "X[numerical] = scaler.fit_transform(X[numerical])"
   ]
  },
  {
   "cell_type": "markdown",
   "id": "908936f7",
   "metadata": {
    "papermill": {
     "duration": 0.018947,
     "end_time": "2022-06-13T12:58:39.668880",
     "exception": false,
     "start_time": "2022-06-13T12:58:39.649933",
     "status": "completed"
    },
    "tags": []
   },
   "source": [
    "**First Five rows of the scaled dataset.**"
   ]
  },
  {
   "cell_type": "code",
   "execution_count": 28,
   "id": "c961c353",
   "metadata": {
    "execution": {
     "iopub.execute_input": "2022-06-13T12:58:39.704569Z",
     "iopub.status.busy": "2022-06-13T12:58:39.704208Z",
     "iopub.status.idle": "2022-06-13T12:58:39.717948Z",
     "shell.execute_reply": "2022-06-13T12:58:39.717130Z"
    },
    "papermill": {
     "duration": 0.033651,
     "end_time": "2022-06-13T12:58:39.720001",
     "exception": false,
     "start_time": "2022-06-13T12:58:39.686350",
     "status": "completed"
    },
    "tags": []
   },
   "outputs": [
    {
     "data": {
      "text/html": [
       "<div>\n",
       "<style scoped>\n",
       "    .dataframe tbody tr th:only-of-type {\n",
       "        vertical-align: middle;\n",
       "    }\n",
       "\n",
       "    .dataframe tbody tr th {\n",
       "        vertical-align: top;\n",
       "    }\n",
       "\n",
       "    .dataframe thead th {\n",
       "        text-align: right;\n",
       "    }\n",
       "</style>\n",
       "<table border=\"1\" class=\"dataframe\">\n",
       "  <thead>\n",
       "    <tr style=\"text-align: right;\">\n",
       "      <th></th>\n",
       "      <th>step</th>\n",
       "      <th>type</th>\n",
       "      <th>amount</th>\n",
       "      <th>oldbalanceOrg</th>\n",
       "      <th>newbalanceOrig</th>\n",
       "      <th>oldbalanceDest</th>\n",
       "      <th>newbalanceDest</th>\n",
       "    </tr>\n",
       "  </thead>\n",
       "  <tbody>\n",
       "    <tr>\n",
       "      <th>0</th>\n",
       "      <td>-1.324022</td>\n",
       "      <td>1.0</td>\n",
       "      <td>-0.307719</td>\n",
       "      <td>1.684490</td>\n",
       "      <td>1.442503</td>\n",
       "      <td>-0.114646</td>\n",
       "      <td>-0.187985</td>\n",
       "    </tr>\n",
       "    <tr>\n",
       "      <th>1</th>\n",
       "      <td>-1.324022</td>\n",
       "      <td>1.0</td>\n",
       "      <td>-0.351406</td>\n",
       "      <td>0.098612</td>\n",
       "      <td>0.174443</td>\n",
       "      <td>-0.114646</td>\n",
       "      <td>-0.187985</td>\n",
       "    </tr>\n",
       "    <tr>\n",
       "      <th>2</th>\n",
       "      <td>-1.324022</td>\n",
       "      <td>1.5</td>\n",
       "      <td>-0.360627</td>\n",
       "      <td>-0.125795</td>\n",
       "      <td>0.000000</td>\n",
       "      <td>-0.114646</td>\n",
       "      <td>-0.187985</td>\n",
       "    </tr>\n",
       "    <tr>\n",
       "      <th>3</th>\n",
       "      <td>-1.324022</td>\n",
       "      <td>0.0</td>\n",
       "      <td>-0.360627</td>\n",
       "      <td>-0.125795</td>\n",
       "      <td>0.000000</td>\n",
       "      <td>-0.085671</td>\n",
       "      <td>-0.187985</td>\n",
       "    </tr>\n",
       "    <tr>\n",
       "      <th>4</th>\n",
       "      <td>-1.324022</td>\n",
       "      <td>1.0</td>\n",
       "      <td>-0.297703</td>\n",
       "      <td>0.314892</td>\n",
       "      <td>0.268942</td>\n",
       "      <td>-0.114646</td>\n",
       "      <td>-0.187985</td>\n",
       "    </tr>\n",
       "  </tbody>\n",
       "</table>\n",
       "</div>"
      ],
      "text/plain": [
       "       step  type    amount  oldbalanceOrg  newbalanceOrig  oldbalanceDest  \\\n",
       "0 -1.324022   1.0 -0.307719       1.684490        1.442503       -0.114646   \n",
       "1 -1.324022   1.0 -0.351406       0.098612        0.174443       -0.114646   \n",
       "2 -1.324022   1.5 -0.360627      -0.125795        0.000000       -0.114646   \n",
       "3 -1.324022   0.0 -0.360627      -0.125795        0.000000       -0.085671   \n",
       "4 -1.324022   1.0 -0.297703       0.314892        0.268942       -0.114646   \n",
       "\n",
       "   newbalanceDest  \n",
       "0       -0.187985  \n",
       "1       -0.187985  \n",
       "2       -0.187985  \n",
       "3       -0.187985  \n",
       "4       -0.187985  "
      ]
     },
     "execution_count": 28,
     "metadata": {},
     "output_type": "execute_result"
    }
   ],
   "source": [
    "X.head()"
   ]
  },
  {
   "cell_type": "code",
   "execution_count": 29,
   "id": "1979bc47",
   "metadata": {
    "execution": {
     "iopub.execute_input": "2022-06-13T12:58:39.754822Z",
     "iopub.status.busy": "2022-06-13T12:58:39.754209Z",
     "iopub.status.idle": "2022-06-13T12:58:41.152820Z",
     "shell.execute_reply": "2022-06-13T12:58:41.151948Z"
    },
    "papermill": {
     "duration": 1.418504,
     "end_time": "2022-06-13T12:58:41.155162",
     "exception": false,
     "start_time": "2022-06-13T12:58:39.736658",
     "status": "completed"
    },
    "tags": []
   },
   "outputs": [
    {
     "name": "stdout",
     "output_type": "stream",
     "text": [
      "The shape of X_train is       (4824844, 7)\n",
      "The shape of X_test is        (1206211, 7)\n",
      "The shape of y_train is       (4824844,)\n",
      "The shape of y_test is        (1206211,)\n"
     ]
    }
   ],
   "source": [
    "#Spliting the dataset\n",
    "X_train, X_test, y_train, y_test = train_test_split(X,y, test_size = 0.2, random_state = 42)\n",
    "print(\"The shape of X_train is      \", X_train.shape)\n",
    "print(\"The shape of X_test is       \",X_test.shape)\n",
    "print(\"The shape of y_train is      \",y_train.shape)\n",
    "print(\"The shape of y_test is       \",y_test.shape)"
   ]
  },
  {
   "cell_type": "markdown",
   "id": "5fb8523c",
   "metadata": {
    "papermill": {
     "duration": 0.016003,
     "end_time": "2022-06-13T12:58:41.187293",
     "exception": false,
     "start_time": "2022-06-13T12:58:41.171290",
     "status": "completed"
    },
    "tags": []
   },
   "source": [
    "**Building Neural Network**"
   ]
  },
  {
   "cell_type": "code",
   "execution_count": 30,
   "id": "cbae0914",
   "metadata": {
    "execution": {
     "iopub.execute_input": "2022-06-13T12:58:41.220477Z",
     "iopub.status.busy": "2022-06-13T12:58:41.220155Z",
     "iopub.status.idle": "2022-06-13T12:58:49.167352Z",
     "shell.execute_reply": "2022-06-13T12:58:49.166571Z"
    },
    "papermill": {
     "duration": 7.968139,
     "end_time": "2022-06-13T12:58:49.171216",
     "exception": false,
     "start_time": "2022-06-13T12:58:41.203077",
     "status": "completed"
    },
    "tags": []
   },
   "outputs": [
    {
     "name": "stderr",
     "output_type": "stream",
     "text": [
      "2022-06-13 12:58:46.413058: I tensorflow/stream_executor/cuda/cuda_gpu_executor.cc:937] successful NUMA node read from SysFS had negative value (-1), but there must be at least one NUMA node, so returning NUMA node zero\n"
     ]
    },
    {
     "name": "stdout",
     "output_type": "stream",
     "text": [
      "Model: \"sequential\"\n",
      "_________________________________________________________________\n",
      "Layer (type)                 Output Shape              Param #   \n",
      "=================================================================\n",
      "dense (Dense)                (None, 12)                96        \n",
      "_________________________________________________________________\n",
      "dropout (Dropout)            (None, 12)                0         \n",
      "_________________________________________________________________\n",
      "flatten (Flatten)            (None, 12)                0         \n",
      "_________________________________________________________________\n",
      "dense_1 (Dense)              (None, 512)               6656      \n",
      "_________________________________________________________________\n",
      "dropout_1 (Dropout)          (None, 512)               0         \n",
      "_________________________________________________________________\n",
      "flatten_1 (Flatten)          (None, 512)               0         \n",
      "_________________________________________________________________\n",
      "dense_2 (Dense)              (None, 512)               262656    \n",
      "_________________________________________________________________\n",
      "dropout_2 (Dropout)          (None, 512)               0         \n",
      "_________________________________________________________________\n",
      "flatten_2 (Flatten)          (None, 512)               0         \n",
      "_________________________________________________________________\n",
      "dense_3 (Dense)              (None, 512)               262656    \n",
      "_________________________________________________________________\n",
      "dropout_3 (Dropout)          (None, 512)               0         \n",
      "_________________________________________________________________\n",
      "dense_4 (Dense)              (None, 1)                 513       \n",
      "=================================================================\n",
      "Total params: 532,577\n",
      "Trainable params: 532,577\n",
      "Non-trainable params: 0\n",
      "_________________________________________________________________\n"
     ]
    },
    {
     "name": "stderr",
     "output_type": "stream",
     "text": [
      "2022-06-13 12:58:46.566383: I tensorflow/stream_executor/cuda/cuda_gpu_executor.cc:937] successful NUMA node read from SysFS had negative value (-1), but there must be at least one NUMA node, so returning NUMA node zero\n",
      "2022-06-13 12:58:46.567168: I tensorflow/stream_executor/cuda/cuda_gpu_executor.cc:937] successful NUMA node read from SysFS had negative value (-1), but there must be at least one NUMA node, so returning NUMA node zero\n",
      "2022-06-13 12:58:46.568317: I tensorflow/core/platform/cpu_feature_guard.cc:142] This TensorFlow binary is optimized with oneAPI Deep Neural Network Library (oneDNN) to use the following CPU instructions in performance-critical operations:  AVX2 AVX512F FMA\n",
      "To enable them in other operations, rebuild TensorFlow with the appropriate compiler flags.\n",
      "2022-06-13 12:58:46.568645: I tensorflow/stream_executor/cuda/cuda_gpu_executor.cc:937] successful NUMA node read from SysFS had negative value (-1), but there must be at least one NUMA node, so returning NUMA node zero\n",
      "2022-06-13 12:58:46.569330: I tensorflow/stream_executor/cuda/cuda_gpu_executor.cc:937] successful NUMA node read from SysFS had negative value (-1), but there must be at least one NUMA node, so returning NUMA node zero\n",
      "2022-06-13 12:58:46.569969: I tensorflow/stream_executor/cuda/cuda_gpu_executor.cc:937] successful NUMA node read from SysFS had negative value (-1), but there must be at least one NUMA node, so returning NUMA node zero\n",
      "2022-06-13 12:58:48.745692: I tensorflow/stream_executor/cuda/cuda_gpu_executor.cc:937] successful NUMA node read from SysFS had negative value (-1), but there must be at least one NUMA node, so returning NUMA node zero\n",
      "2022-06-13 12:58:48.746635: I tensorflow/stream_executor/cuda/cuda_gpu_executor.cc:937] successful NUMA node read from SysFS had negative value (-1), but there must be at least one NUMA node, so returning NUMA node zero\n",
      "2022-06-13 12:58:48.747349: I tensorflow/stream_executor/cuda/cuda_gpu_executor.cc:937] successful NUMA node read from SysFS had negative value (-1), but there must be at least one NUMA node, so returning NUMA node zero\n",
      "2022-06-13 12:58:48.747977: I tensorflow/core/common_runtime/gpu/gpu_device.cc:1510] Created device /job:localhost/replica:0/task:0/device:GPU:0 with 15403 MB memory:  -> device: 0, name: Tesla P100-PCIE-16GB, pci bus id: 0000:00:04.0, compute capability: 6.0\n"
     ]
    }
   ],
   "source": [
    "import keras\n",
    "from keras.models import Sequential\n",
    "from keras.layers import Dense, Dropout, Flatten\n",
    "\n",
    "#Building Neural Network\n",
    "model = Sequential()\n",
    "\n",
    "# 1st layer: input_dim=6, 12 nodes, RELU\n",
    "model.add(Dense(12, input_dim=7, kernel_initializer='random_uniform', activation='relu'))\n",
    "\n",
    "model.add(Dropout(0.1))\n",
    "\n",
    "model.add(Flatten())\n",
    "model.add(Dense(512, kernel_initializer='random_uniform', activation='relu'))\n",
    "model.add(Dropout(rate=0.1))\n",
    "\n",
    "model.add(Flatten())\n",
    "model.add(Dense(512, kernel_initializer='random_uniform', activation='relu'))\n",
    "model.add(Dropout(rate=0.1))\n",
    "\n",
    "\n",
    "\n",
    "model.add(Flatten())\n",
    "model.add(Dense(512, kernel_initializer='random_uniform', activation='relu'))\n",
    "model.add(Dropout(rate=0.1))\n",
    "\n",
    "\n",
    "# output layer: dim=1, activation sigmoid\n",
    "model.add(Dense(1, kernel_initializer='random_uniform', activation='sigmoid' ))\n",
    "\n",
    "# Compile the model\n",
    "model.compile(loss='binary_crossentropy',   \n",
    "             optimizer='adam',\n",
    "             metrics=['accuracy'])\n",
    "model.summary()"
   ]
  },
  {
   "cell_type": "code",
   "execution_count": 31,
   "id": "088c0f94",
   "metadata": {
    "execution": {
     "iopub.execute_input": "2022-06-13T12:58:49.205771Z",
     "iopub.status.busy": "2022-06-13T12:58:49.205443Z",
     "iopub.status.idle": "2022-06-13T13:04:12.893143Z",
     "shell.execute_reply": "2022-06-13T13:04:12.892294Z"
    },
    "papermill": {
     "duration": 324.078969,
     "end_time": "2022-06-13T13:04:13.267337",
     "exception": false,
     "start_time": "2022-06-13T12:58:49.188368",
     "status": "completed"
    },
    "tags": []
   },
   "outputs": [
    {
     "name": "stderr",
     "output_type": "stream",
     "text": [
      "2022-06-13 12:58:49.992350: I tensorflow/compiler/mlir/mlir_graph_optimization_pass.cc:185] None of the MLIR Optimization Passes are enabled (registered 2)\n"
     ]
    },
    {
     "name": "stdout",
     "output_type": "stream",
     "text": [
      "Epoch 1/2\n",
      "48249/48249 [==============================] - 148s 3ms/step - loss: 0.0038 - accuracy: 0.9994\n",
      "Epoch 2/2\n",
      "48249/48249 [==============================] - 149s 3ms/step - loss: 0.0050 - accuracy: 0.9996\n"
     ]
    },
    {
     "data": {
      "text/plain": [
       "<keras.callbacks.History at 0x7f89dbc5fb10>"
      ]
     },
     "execution_count": 31,
     "metadata": {},
     "output_type": "execute_result"
    }
   ],
   "source": [
    "model.fit(X_train, y_train, batch_size=100, epochs=2)"
   ]
  },
  {
   "cell_type": "code",
   "execution_count": 32,
   "id": "e7a50c33",
   "metadata": {
    "execution": {
     "iopub.execute_input": "2022-06-13T13:04:14.061624Z",
     "iopub.status.busy": "2022-06-13T13:04:14.061237Z",
     "iopub.status.idle": "2022-06-13T13:04:55.400612Z",
     "shell.execute_reply": "2022-06-13T13:04:55.399720Z"
    },
    "papermill": {
     "duration": 41.718441,
     "end_time": "2022-06-13T13:04:55.403280",
     "exception": false,
     "start_time": "2022-06-13T13:04:13.684839",
     "status": "completed"
    },
    "tags": []
   },
   "outputs": [],
   "source": [
    "Y_pred = model.predict(X_test)"
   ]
  },
  {
   "cell_type": "markdown",
   "id": "25531562",
   "metadata": {
    "papermill": {
     "duration": 0.365142,
     "end_time": "2022-06-13T13:04:56.174189",
     "exception": false,
     "start_time": "2022-06-13T13:04:55.809047",
     "status": "completed"
    },
    "tags": []
   },
   "source": [
    "**Implementing Decision Tree Classifier**"
   ]
  },
  {
   "cell_type": "code",
   "execution_count": 33,
   "id": "e2b8d7ea",
   "metadata": {
    "execution": {
     "iopub.execute_input": "2022-06-13T13:04:56.963868Z",
     "iopub.status.busy": "2022-06-13T13:04:56.963512Z",
     "iopub.status.idle": "2022-06-13T13:04:57.077343Z",
     "shell.execute_reply": "2022-06-13T13:04:57.076608Z"
    },
    "papermill": {
     "duration": 0.52902,
     "end_time": "2022-06-13T13:04:57.079304",
     "exception": false,
     "start_time": "2022-06-13T13:04:56.550284",
     "status": "completed"
    },
    "tags": []
   },
   "outputs": [],
   "source": [
    "from sklearn.tree import DecisionTreeClassifier"
   ]
  },
  {
   "cell_type": "code",
   "execution_count": 34,
   "id": "dcc9600a",
   "metadata": {
    "execution": {
     "iopub.execute_input": "2022-06-13T13:04:57.809508Z",
     "iopub.status.busy": "2022-06-13T13:04:57.809134Z",
     "iopub.status.idle": "2022-06-13T13:05:50.904709Z",
     "shell.execute_reply": "2022-06-13T13:05:50.903811Z"
    },
    "papermill": {
     "duration": 53.46267,
     "end_time": "2022-06-13T13:05:50.907117",
     "exception": false,
     "start_time": "2022-06-13T13:04:57.444447",
     "status": "completed"
    },
    "tags": []
   },
   "outputs": [],
   "source": [
    "DecisionTree = DecisionTreeClassifier()\n",
    "fit = DecisionTree.fit(X_train, y_train)\n",
    "prediction = DecisionTree.predict(X_test)\n"
   ]
  },
  {
   "cell_type": "code",
   "execution_count": 35,
   "id": "ac1d730a",
   "metadata": {
    "execution": {
     "iopub.execute_input": "2022-06-13T13:05:51.681493Z",
     "iopub.status.busy": "2022-06-13T13:05:51.681084Z",
     "iopub.status.idle": "2022-06-13T13:05:54.009075Z",
     "shell.execute_reply": "2022-06-13T13:05:54.008264Z"
    },
    "papermill": {
     "duration": 2.739511,
     "end_time": "2022-06-13T13:05:54.011478",
     "exception": false,
     "start_time": "2022-06-13T13:05:51.271967",
     "status": "completed"
    },
    "tags": []
   },
   "outputs": [],
   "source": [
    "from sklearn.metrics import confusion_matrix, roc_curve, auc, accuracy_score, classification_report\n",
    "CM = confusion_matrix(y_test,prediction)\n",
    "CR = classification_report(y_test,prediction)\n",
    "fpr, recall, thresholds = roc_curve(y_test, prediction)\n",
    "AUC = auc(fpr, recall)"
   ]
  },
  {
   "cell_type": "code",
   "execution_count": 36,
   "id": "b97b0cff",
   "metadata": {
    "execution": {
     "iopub.execute_input": "2022-06-13T13:05:54.737439Z",
     "iopub.status.busy": "2022-06-13T13:05:54.737068Z",
     "iopub.status.idle": "2022-06-13T13:05:54.948590Z",
     "shell.execute_reply": "2022-06-13T13:05:54.947849Z"
    },
    "papermill": {
     "duration": 0.575276,
     "end_time": "2022-06-13T13:05:54.950363",
     "exception": false,
     "start_time": "2022-06-13T13:05:54.375087",
     "status": "completed"
    },
    "tags": []
   },
   "outputs": [
    {
     "data": {
      "text/plain": [
       "<AxesSubplot:>"
      ]
     },
     "execution_count": 36,
     "metadata": {},
     "output_type": "execute_result"
    },
    {
     "data": {
      "image/png": "[encoded data removed]",
      "text/plain": [
       "<Figure size 432x288 with 2 Axes>"
      ]
     },
     "metadata": {
      "needs_background": "light"
     },
     "output_type": "display_data"
    }
   ],
   "source": [
    "sns.heatmap(CM, annot = True)"
   ]
  },
  {
   "cell_type": "code",
   "execution_count": 37,
   "id": "0f570004",
   "metadata": {
    "execution": {
     "iopub.execute_input": "2022-06-13T13:05:55.678959Z",
     "iopub.status.busy": "2022-06-13T13:05:55.678605Z",
     "iopub.status.idle": "2022-06-13T13:05:55.683489Z",
     "shell.execute_reply": "2022-06-13T13:05:55.682609Z"
    },
    "papermill": {
     "duration": 0.371695,
     "end_time": "2022-06-13T13:05:55.686382",
     "exception": false,
     "start_time": "2022-06-13T13:05:55.314687",
     "status": "completed"
    },
    "tags": []
   },
   "outputs": [
    {
     "name": "stdout",
     "output_type": "stream",
     "text": [
      "Classification Report:\n",
      "              precision    recall  f1-score   support\n",
      "\n",
      "           0       1.00      1.00      1.00   1204756\n",
      "           1       0.89      0.86      0.87      1455\n",
      "\n",
      "    accuracy                           1.00   1206211\n",
      "   macro avg       0.94      0.93      0.94   1206211\n",
      "weighted avg       1.00      1.00      1.00   1206211\n",
      "\n"
     ]
    }
   ],
   "source": [
    "print('Classification Report:')\n",
    "print(CR)"
   ]
  },
  {
   "cell_type": "code",
   "execution_count": 38,
   "id": "07b16fe6",
   "metadata": {
    "execution": {
     "iopub.execute_input": "2022-06-13T13:05:56.474143Z",
     "iopub.status.busy": "2022-06-13T13:05:56.473271Z",
     "iopub.status.idle": "2022-06-13T13:05:56.479017Z",
     "shell.execute_reply": "2022-06-13T13:05:56.478135Z"
    },
    "papermill": {
     "duration": 0.386353,
     "end_time": "2022-06-13T13:05:56.481937",
     "exception": false,
     "start_time": "2022-06-13T13:05:56.095584",
     "status": "completed"
    },
    "tags": []
   },
   "outputs": [
    {
     "name": "stdout",
     "output_type": "stream",
     "text": [
      "Area Under Curve:\n",
      "0.9305173739305543\n"
     ]
    }
   ],
   "source": [
    "print(\"Area Under Curve:\")\n",
    "print(AUC)"
   ]
  },
  {
   "cell_type": "code",
   "execution_count": 39,
   "id": "52e3450f",
   "metadata": {
    "execution": {
     "iopub.execute_input": "2022-06-13T13:05:57.222738Z",
     "iopub.status.busy": "2022-06-13T13:05:57.222379Z",
     "iopub.status.idle": "2022-06-13T13:05:57.324171Z",
     "shell.execute_reply": "2022-06-13T13:05:57.323145Z"
    },
    "papermill": {
     "duration": 0.469937,
     "end_time": "2022-06-13T13:05:57.326077",
     "exception": false,
     "start_time": "2022-06-13T13:05:56.856140",
     "status": "completed"
    },
    "tags": []
   },
   "outputs": [
    {
     "name": "stdout",
     "output_type": "stream",
     "text": [
      "Accuracy Score: 0.9996990576275627\n"
     ]
    }
   ],
   "source": [
    "print(\"Accuracy Score:\",accuracy_score(y_test, prediction))"
   ]
  }
 ],
 "metadata": {
  "kernelspec": {
   "display_name": "Python 3",
   "language": "python",
   "name": "python3"
  },
  "language_info": {
   "codemirror_mode": {
    "name": "ipython",
    "version": 3
   },
   "file_extension": ".py",
   "mimetype": "text/x-python",
   "name": "python",
   "nbconvert_exporter": "python",
   "pygments_lexer": "ipython3",
   "version": "3.7.12"
  },
  "papermill": {
   "default_parameters": {},
   "duration": 556.599291,
   "end_time": "2022-06-13T13:06:01.111041",
   "environment_variables": {},
   "exception": null,
   "input_path": "__notebook__.ipynb",
   "output_path": "__notebook__.ipynb",
   "parameters": {},
   "start_time": "2022-06-13T12:56:44.511750",
   "version": "2.3.4"
  }
 },
 "nbformat": 4,
 "nbformat_minor": 5
}
