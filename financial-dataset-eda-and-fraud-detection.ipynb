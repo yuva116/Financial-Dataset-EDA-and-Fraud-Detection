{
 "cells": [
  {
   "cell_type": "markdown",
   "metadata": {},
   "source": [
    "# Financial Dataset EDA and Fraud Detection"
   ]
  },
  {
   "cell_type": "markdown",
   "metadata": {},
   "source": [
    "This Jupyter Notebook comprises of EDA of a Dataset with an implementation of  neural network model and a Decision Tree Classifier for fraud prediction prediction. The dataset consist of transaction information with more than 6 million entries. The dataset which is being utilized synthetic dataset generated using the simulator called PaySim as an approach to such a problem. PaySim uses aggregated data from the private dataset to generate a synthetic dataset that resembles the normal operation of transactions and injects malicious behaviour to later evaluate the performance of fraud detection methods."
   ]
  },
  {
   "cell_type": "code",
   "execution_count": 1,
   "metadata": {
    "_cell_guid": "b1076dfc-b9ad-4769-8c92-a6c4dae69d19",
    "_uuid": "8f2839f25d086af736a60e9eeb907d3b93b6e0e5",
    "execution": {
     "iopub.execute_input": "2022-06-13T12:22:09.119841Z",
     "iopub.status.busy": "2022-06-13T12:22:09.119166Z",
     "iopub.status.idle": "2022-06-13T12:22:09.759669Z",
     "shell.execute_reply": "2022-06-13T12:22:09.758875Z",
     "shell.execute_reply.started": "2022-06-13T12:22:09.119751Z"
    }
   },
   "outputs": [],
   "source": [
    "import pandas as pd\n",
    "import numpy as np\n",
    "import matplotlib.pyplot as plt\n",
    "import seaborn as sns\n",
    "from sklearn.model_selection import train_test_split\n",
    "from sklearn.preprocessing import RobustScaler\n",
    "import warnings\n",
    "warnings.filterwarnings('ignore')"
   ]
  },
  {
   "cell_type": "code",
   "execution_count": 2,
   "metadata": {
    "execution": {
     "iopub.execute_input": "2022-06-13T12:22:09.762048Z",
     "iopub.status.busy": "2022-06-13T12:22:09.761655Z",
     "iopub.status.idle": "2022-06-13T12:22:26.295756Z",
     "shell.execute_reply": "2022-06-13T12:22:26.294980Z",
     "shell.execute_reply.started": "2022-06-13T12:22:09.762011Z"
    }
   },
   "outputs": [],
   "source": [
    "#Loading Dataset\n",
    "data = pd.read_csv('../input/paysim1/PS_20174392719_1491204439457_log.csv')\n",
    "data.head()"
   ]
  },
  {
   "cell_type": "markdown",
   "metadata": {},
   "source": [
    "**EDA**"
   ]
  },
  {
   "cell_type": "code",
   "execution_count": 3,
   "metadata": {
    "execution": {
     "iopub.execute_input": "2022-06-13T12:22:26.297201Z",
     "iopub.status.busy": "2022-06-13T12:22:26.296814Z",
     "iopub.status.idle": "2022-06-13T12:22:37.168180Z",
     "shell.execute_reply": "2022-06-13T12:22:37.167255Z",
     "shell.execute_reply.started": "2022-06-13T12:22:26.297166Z"
    }
   },
   "outputs": [],
   "source": [
    "data['nameOrig'].value_counts()"
   ]
  },
  {
   "cell_type": "code",
   "execution_count": 4,
   "metadata": {
    "execution": {
     "iopub.execute_input": "2022-06-13T12:22:37.170789Z",
     "iopub.status.busy": "2022-06-13T12:22:37.170416Z",
     "iopub.status.idle": "2022-06-13T12:22:42.828611Z",
     "shell.execute_reply": "2022-06-13T12:22:42.827854Z",
     "shell.execute_reply.started": "2022-06-13T12:22:37.170752Z"
    }
   },
   "outputs": [],
   "source": [
    "data['nameDest'].value_counts()"
   ]
  },
  {
   "cell_type": "code",
   "execution_count": 5,
   "metadata": {
    "execution": {
     "iopub.execute_input": "2022-06-13T12:22:42.830339Z",
     "iopub.status.busy": "2022-06-13T12:22:42.829964Z",
     "iopub.status.idle": "2022-06-13T12:22:42.835983Z",
     "shell.execute_reply": "2022-06-13T12:22:42.835120Z",
     "shell.execute_reply.started": "2022-06-13T12:22:42.830303Z"
    }
   },
   "outputs": [],
   "source": [
    "#Dimensions of the Dataset\n",
    "data.shape"
   ]
  },
  {
   "cell_type": "code",
   "execution_count": 6,
   "metadata": {
    "execution": {
     "iopub.execute_input": "2022-06-13T12:22:42.837924Z",
     "iopub.status.busy": "2022-06-13T12:22:42.837260Z",
     "iopub.status.idle": "2022-06-13T12:22:42.846511Z",
     "shell.execute_reply": "2022-06-13T12:22:42.845446Z",
     "shell.execute_reply.started": "2022-06-13T12:22:42.837877Z"
    }
   },
   "outputs": [],
   "source": [
    "#Columns in the Dataset\n",
    "data.columns"
   ]
  },
  {
   "cell_type": "code",
   "execution_count": 7,
   "metadata": {
    "execution": {
     "iopub.execute_input": "2022-06-13T12:22:42.848616Z",
     "iopub.status.busy": "2022-06-13T12:22:42.848202Z",
     "iopub.status.idle": "2022-06-13T12:22:42.864604Z",
     "shell.execute_reply": "2022-06-13T12:22:42.863584Z",
     "shell.execute_reply.started": "2022-06-13T12:22:42.848582Z"
    }
   },
   "outputs": [],
   "source": [
    "#Dataset info\n",
    "data.info()"
   ]
  },
  {
   "cell_type": "code",
   "execution_count": 8,
   "metadata": {
    "execution": {
     "iopub.execute_input": "2022-06-13T12:22:42.867326Z",
     "iopub.status.busy": "2022-06-13T12:22:42.866526Z",
     "iopub.status.idle": "2022-06-13T12:22:43.809325Z",
     "shell.execute_reply": "2022-06-13T12:22:43.808456Z",
     "shell.execute_reply.started": "2022-06-13T12:22:42.867286Z"
    }
   },
   "outputs": [],
   "source": [
    "data['type'].value_counts()"
   ]
  },
  {
   "cell_type": "code",
   "execution_count": 9,
   "metadata": {
    "execution": {
     "iopub.execute_input": "2022-06-13T12:22:43.817251Z",
     "iopub.status.busy": "2022-06-13T12:22:43.813200Z",
     "iopub.status.idle": "2022-06-13T12:22:44.500033Z",
     "shell.execute_reply": "2022-06-13T12:22:44.499060Z",
     "shell.execute_reply.started": "2022-06-13T12:22:43.817210Z"
    }
   },
   "outputs": [],
   "source": [
    "#Analyzing no of Frauds and no Frauds\n",
    "NoFraud = len(data[data['isFraud'] == 0])\n",
    "Fraud = len(data[data['isFraud'] == 1])\n",
    "print(\"Percentage of No Fraud: {:.2f}%\".format((NoFraud / (len(data['isFraud']))*100)))\n",
    "print(\"Percentage of Fraud: {:.2f}%\".format((Fraud / (len(data['isFraud']))*100)))"
   ]
  },
  {
   "cell_type": "code",
   "execution_count": 10,
   "metadata": {
    "execution": {
     "iopub.execute_input": "2022-06-13T12:22:44.503767Z",
     "iopub.status.busy": "2022-06-13T12:22:44.503301Z",
     "iopub.status.idle": "2022-06-13T12:22:46.318577Z",
     "shell.execute_reply": "2022-06-13T12:22:46.317811Z",
     "shell.execute_reply.started": "2022-06-13T12:22:44.503736Z"
    }
   },
   "outputs": [],
   "source": [
    "#Checking if the dataset has any null/missing values or not\n",
    "data.isnull().sum()"
   ]
  },
  {
   "cell_type": "markdown",
   "metadata": {},
   "source": [
    "So, throughout the dataset there are no null values present."
   ]
  },
  {
   "cell_type": "markdown",
   "metadata": {},
   "source": [
    "**Correlation Heatmap**"
   ]
  },
  {
   "cell_type": "code",
   "execution_count": 11,
   "metadata": {
    "execution": {
     "iopub.execute_input": "2022-06-13T12:22:46.320310Z",
     "iopub.status.busy": "2022-06-13T12:22:46.319944Z",
     "iopub.status.idle": "2022-06-13T12:22:48.134897Z",
     "shell.execute_reply": "2022-06-13T12:22:48.134154Z",
     "shell.execute_reply.started": "2022-06-13T12:22:46.320274Z"
    }
   },
   "outputs": [],
   "source": [
    "plt.figure(figsize = (10, 12))\n",
    "sns.heatmap(data.corr(), annot = True)"
   ]
  },
  {
   "cell_type": "code",
   "execution_count": 12,
   "metadata": {
    "execution": {
     "iopub.execute_input": "2022-06-13T12:22:48.136654Z",
     "iopub.status.busy": "2022-06-13T12:22:48.136179Z",
     "iopub.status.idle": "2022-06-13T12:22:48.992708Z",
     "shell.execute_reply": "2022-06-13T12:22:48.991936Z",
     "shell.execute_reply.started": "2022-06-13T12:22:48.136617Z"
    }
   },
   "outputs": [],
   "source": [
    "data['type'].value_counts()"
   ]
  },
  {
   "cell_type": "code",
   "execution_count": 13,
   "metadata": {
    "execution": {
     "iopub.execute_input": "2022-06-13T12:22:48.994443Z",
     "iopub.status.busy": "2022-06-13T12:22:48.994001Z",
     "iopub.status.idle": "2022-06-13T12:22:55.752765Z",
     "shell.execute_reply": "2022-06-13T12:22:55.751678Z",
     "shell.execute_reply.started": "2022-06-13T12:22:48.994404Z"
    }
   },
   "outputs": [],
   "source": [
    "plt.figure(figsize = (10, 12))\n",
    "sns.countplot(data['type'])"
   ]
  },
  {
   "cell_type": "markdown",
   "metadata": {},
   "source": [
    "**No of Transactions of each type**"
   ]
  },
  {
   "cell_type": "code",
   "execution_count": 14,
   "metadata": {
    "execution": {
     "iopub.execute_input": "2022-06-13T12:22:55.754674Z",
     "iopub.status.busy": "2022-06-13T12:22:55.754301Z",
     "iopub.status.idle": "2022-06-13T12:22:55.926970Z",
     "shell.execute_reply": "2022-06-13T12:22:55.926059Z",
     "shell.execute_reply.started": "2022-06-13T12:22:55.754636Z"
    }
   },
   "outputs": [],
   "source": [
    "sns.countplot(data[data['isFraud'] == 1]['type'])"
   ]
  },
  {
   "cell_type": "markdown",
   "metadata": {},
   "source": [
    "Therefore. it is evident that whenever a fraud takes place, the transaction type are 'Transfer' and 'Cash Out'"
   ]
  },
  {
   "cell_type": "code",
   "execution_count": 15,
   "metadata": {
    "execution": {
     "iopub.execute_input": "2022-06-13T12:22:55.932889Z",
     "iopub.status.busy": "2022-06-13T12:22:55.931940Z",
     "iopub.status.idle": "2022-06-13T12:22:56.800918Z",
     "shell.execute_reply": "2022-06-13T12:22:56.799937Z",
     "shell.execute_reply.started": "2022-06-13T12:22:55.932831Z"
    }
   },
   "outputs": [],
   "source": [
    "data['type'].value_counts()"
   ]
  },
  {
   "cell_type": "code",
   "execution_count": 16,
   "metadata": {
    "execution": {
     "iopub.execute_input": "2022-06-13T12:22:56.802927Z",
     "iopub.status.busy": "2022-06-13T12:22:56.802491Z",
     "iopub.status.idle": "2022-06-13T12:23:52.578120Z",
     "shell.execute_reply": "2022-06-13T12:23:52.577168Z",
     "shell.execute_reply.started": "2022-06-13T12:22:56.802889Z"
    }
   },
   "outputs": [],
   "source": [
    "from sklearn.preprocessing import LabelEncoder\n",
    "le = LabelEncoder()\n",
    "Object = data[['type', 'nameOrig', 'nameDest']]\n",
    "for i in Object:\n",
    "    data[i] = le.fit_transform(data[i])\n",
    "data"
   ]
  },
  {
   "cell_type": "code",
   "execution_count": 17,
   "metadata": {
    "execution": {
     "iopub.execute_input": "2022-06-13T12:23:52.579950Z",
     "iopub.status.busy": "2022-06-13T12:23:52.579584Z",
     "iopub.status.idle": "2022-06-13T12:23:52.591060Z",
     "shell.execute_reply": "2022-06-13T12:23:52.588688Z",
     "shell.execute_reply.started": "2022-06-13T12:23:52.579914Z"
    }
   },
   "outputs": [],
   "source": [
    "#Data info after update\n",
    "data.info()"
   ]
  },
  {
   "cell_type": "code",
   "execution_count": 18,
   "metadata": {
    "execution": {
     "iopub.execute_input": "2022-06-13T12:23:52.592799Z",
     "iopub.status.busy": "2022-06-13T12:23:52.592304Z",
     "iopub.status.idle": "2022-06-13T12:23:53.123668Z",
     "shell.execute_reply": "2022-06-13T12:23:53.122934Z",
     "shell.execute_reply.started": "2022-06-13T12:23:52.592763Z"
    }
   },
   "outputs": [],
   "source": [
    "#Amount Distribution when Fraud Takes Place\n",
    "sns.distplot(data[data['isFraud'] == 1]['amount'])"
   ]
  },
  {
   "cell_type": "code",
   "execution_count": 19,
   "metadata": {
    "execution": {
     "iopub.execute_input": "2022-06-13T12:23:53.125470Z",
     "iopub.status.busy": "2022-06-13T12:23:53.124802Z",
     "iopub.status.idle": "2022-06-13T12:23:53.145234Z",
     "shell.execute_reply": "2022-06-13T12:23:53.144479Z",
     "shell.execute_reply.started": "2022-06-13T12:23:53.125431Z"
    }
   },
   "outputs": [],
   "source": [
    "data[data['isFraud'] == 1]['nameDest'].value_counts()"
   ]
  },
  {
   "cell_type": "code",
   "execution_count": 20,
   "metadata": {
    "execution": {
     "iopub.execute_input": "2022-06-13T12:23:53.146884Z",
     "iopub.status.busy": "2022-06-13T12:23:53.146371Z",
     "iopub.status.idle": "2022-06-13T12:23:53.158309Z",
     "shell.execute_reply": "2022-06-13T12:23:53.157367Z",
     "shell.execute_reply.started": "2022-06-13T12:23:53.146846Z"
    }
   },
   "outputs": [],
   "source": [
    "numerical = ['amount', 'oldbalanceOrg', 'newbalanceOrig', 'oldbalanceDest', 'newbalanceDest']"
   ]
  },
  {
   "cell_type": "markdown",
   "metadata": {},
   "source": [
    "**OUTLIER DETECTION**"
   ]
  },
  {
   "cell_type": "code",
   "execution_count": 21,
   "metadata": {
    "execution": {
     "iopub.execute_input": "2022-06-13T12:23:53.160673Z",
     "iopub.status.busy": "2022-06-13T12:23:53.159932Z",
     "iopub.status.idle": "2022-06-13T12:23:53.169043Z",
     "shell.execute_reply": "2022-06-13T12:23:53.168281Z",
     "shell.execute_reply.started": "2022-06-13T12:23:53.160634Z"
    }
   },
   "outputs": [],
   "source": [
    "from collections import Counter\n",
    "\n",
    "def detect_outliers(data,features):\n",
    "    outlier_indices = []\n",
    "    \n",
    "    for c in features:\n",
    "        # 1st quartile\n",
    "        Q1 = np.percentile(data[c],25)\n",
    "        # 3rd quartile\n",
    "        Q3 = np.percentile(data[c],75)\n",
    "        # IQR\n",
    "        IQR = Q3 - Q1\n",
    "        # Outlier step\n",
    "        outlier_step = IQR * 1.5\n",
    "        # detect outlier and their indeces\n",
    "        outlier_list_columns = data[(data[c] < Q1 - outlier_step) | (data[c] > Q3 + outlier_step)].index\n",
    "        # store indeces\n",
    "        outlier_indices.extend(outlier_list_columns)\n",
    "    \n",
    "    outlier_indices = Counter(outlier_indices)\n",
    "    multiple_outliers = list(i for i, v in outlier_indices.items() if v > 2)\n",
    "    \n",
    "    return multiple_outliers"
   ]
  },
  {
   "cell_type": "code",
   "execution_count": 22,
   "metadata": {
    "execution": {
     "iopub.execute_input": "2022-06-13T12:23:53.170702Z",
     "iopub.status.busy": "2022-06-13T12:23:53.170136Z",
     "iopub.status.idle": "2022-06-13T12:23:55.703888Z",
     "shell.execute_reply": "2022-06-13T12:23:55.703015Z",
     "shell.execute_reply.started": "2022-06-13T12:23:53.170665Z"
    }
   },
   "outputs": [],
   "source": [
    "data.loc[detect_outliers(data,numerical)]"
   ]
  },
  {
   "cell_type": "code",
   "execution_count": 23,
   "metadata": {
    "execution": {
     "iopub.execute_input": "2022-06-13T12:23:55.705666Z",
     "iopub.status.busy": "2022-06-13T12:23:55.705207Z",
     "iopub.status.idle": "2022-06-13T12:23:59.190799Z",
     "shell.execute_reply": "2022-06-13T12:23:59.189995Z",
     "shell.execute_reply.started": "2022-06-13T12:23:55.705628Z"
    }
   },
   "outputs": [],
   "source": [
    "#Removing outliers from the dataset\n",
    "data = data.drop(detect_outliers(data,numerical),axis = 0).reset_index(drop = True)"
   ]
  },
  {
   "cell_type": "markdown",
   "metadata": {},
   "source": [
    "**Scatterplot Heatmap**"
   ]
  },
  {
   "cell_type": "code",
   "execution_count": 24,
   "metadata": {
    "execution": {
     "iopub.execute_input": "2022-06-13T12:23:59.192607Z",
     "iopub.status.busy": "2022-06-13T12:23:59.192148Z",
     "iopub.status.idle": "2022-06-13T12:24:02.118452Z",
     "shell.execute_reply": "2022-06-13T12:24:02.117672Z",
     "shell.execute_reply.started": "2022-06-13T12:23:59.192568Z"
    }
   },
   "outputs": [],
   "source": [
    "fig = plt.figure(figsize=(12,12))\n",
    "corr_mat = data.corr().stack().reset_index(name=\"correlation\")\n",
    "g = sns.relplot(\n",
    "    data=corr_mat,\n",
    "    x=\"level_0\", y=\"level_1\", hue=\"correlation\", size=\"correlation\",\n",
    "    palette=\"YlGnBu\", hue_norm=(-1, 1), edgecolor=\".7\",\n",
    "    height=10, sizes=(50, 250), size_norm=(-.2, .8),\n",
    ")\n",
    "g.fig.suptitle('Scatterplot heatmap',fontsize=22, fontweight='bold', fontfamily='serif', color=\"#000000\")\n",
    "g.despine(left=True, bottom=True)\n",
    "g.ax.margins(.02)\n",
    "for label in g.ax.get_xticklabels():\n",
    "    label.set_rotation(90)\n",
    "for artist in g.legend.legendHandles:\n",
    "    artist.set_edgecolor(\".7\")\n",
    "plt.show()"
   ]
  },
  {
   "cell_type": "code",
   "execution_count": 25,
   "metadata": {
    "execution": {
     "iopub.execute_input": "2022-06-13T12:24:02.120159Z",
     "iopub.status.busy": "2022-06-13T12:24:02.119431Z",
     "iopub.status.idle": "2022-06-13T12:24:02.233321Z",
     "shell.execute_reply": "2022-06-13T12:24:02.232453Z",
     "shell.execute_reply.started": "2022-06-13T12:24:02.120121Z"
    }
   },
   "outputs": [],
   "source": [
    "X = data.drop(['isFraud', 'isFlaggedFraud', 'nameOrig', 'nameDest'], axis  = 1)\n",
    "y= data['isFraud']"
   ]
  },
  {
   "cell_type": "code",
   "execution_count": 26,
   "metadata": {
    "execution": {
     "iopub.execute_input": "2022-06-13T12:24:02.235450Z",
     "iopub.status.busy": "2022-06-13T12:24:02.234733Z",
     "iopub.status.idle": "2022-06-13T12:24:02.246893Z",
     "shell.execute_reply": "2022-06-13T12:24:02.246183Z",
     "shell.execute_reply.started": "2022-06-13T12:24:02.235410Z"
    }
   },
   "outputs": [],
   "source": [
    "numerical = [feature for feature in X.columns if X[feature].dtype == 'int64' or X[feature].dtype == 'float64']\n",
    "numerical"
   ]
  },
  {
   "cell_type": "markdown",
   "metadata": {},
   "source": [
    "**Scaling the dataset**"
   ]
  },
  {
   "cell_type": "code",
   "execution_count": 27,
   "metadata": {
    "execution": {
     "iopub.execute_input": "2022-06-13T12:24:02.248346Z",
     "iopub.status.busy": "2022-06-13T12:24:02.248091Z",
     "iopub.status.idle": "2022-06-13T12:24:04.199382Z",
     "shell.execute_reply": "2022-06-13T12:24:04.198508Z",
     "shell.execute_reply.started": "2022-06-13T12:24:02.248323Z"
    }
   },
   "outputs": [],
   "source": [
    "scaler = RobustScaler()\n",
    "X[numerical] = scaler.fit_transform(X[numerical])"
   ]
  },
  {
   "cell_type": "markdown",
   "metadata": {},
   "source": [
    "**First Five rows of the scaled dataset.**"
   ]
  },
  {
   "cell_type": "code",
   "execution_count": 28,
   "metadata": {
    "execution": {
     "iopub.execute_input": "2022-06-13T12:24:04.203588Z",
     "iopub.status.busy": "2022-06-13T12:24:04.203286Z",
     "iopub.status.idle": "2022-06-13T12:24:04.216785Z",
     "shell.execute_reply": "2022-06-13T12:24:04.216052Z",
     "shell.execute_reply.started": "2022-06-13T12:24:04.203562Z"
    }
   },
   "outputs": [],
   "source": [
    "X.head()"
   ]
  },
  {
   "cell_type": "code",
   "execution_count": 29,
   "metadata": {
    "execution": {
     "iopub.execute_input": "2022-06-13T12:24:04.218277Z",
     "iopub.status.busy": "2022-06-13T12:24:04.217905Z",
     "iopub.status.idle": "2022-06-13T12:24:05.726118Z",
     "shell.execute_reply": "2022-06-13T12:24:05.725269Z",
     "shell.execute_reply.started": "2022-06-13T12:24:04.218242Z"
    }
   },
   "outputs": [],
   "source": [
    "#Spliting the dataset\n",
    "X_train, X_test, y_train, y_test = train_test_split(X,y, test_size = 0.2, random_state = 42)\n",
    "print(\"The shape of X_train is      \", X_train.shape)\n",
    "print(\"The shape of X_test is       \",X_test.shape)\n",
    "print(\"The shape of y_train is      \",y_train.shape)\n",
    "print(\"The shape of y_test is       \",y_test.shape)"
   ]
  },
  {
   "cell_type": "markdown",
   "metadata": {},
   "source": [
    "**Building Neural Network**"
   ]
  },
  {
   "cell_type": "code",
   "execution_count": 30,
   "metadata": {
    "execution": {
     "iopub.execute_input": "2022-06-13T12:24:05.728016Z",
     "iopub.status.busy": "2022-06-13T12:24:05.727483Z",
     "iopub.status.idle": "2022-06-13T12:24:13.237908Z",
     "shell.execute_reply": "2022-06-13T12:24:13.237120Z",
     "shell.execute_reply.started": "2022-06-13T12:24:05.727965Z"
    }
   },
   "outputs": [],
   "source": [
    "import keras\n",
    "from keras.models import Sequential\n",
    "from keras.layers import Dense, Dropout, Flatten\n",
    "\n",
    "#Building Neural Network\n",
    "model = Sequential()\n",
    "\n",
    "# 1st layer: input_dim=6, 12 nodes, RELU\n",
    "model.add(Dense(12, input_dim=7, kernel_initializer='random_uniform', activation='relu'))\n",
    "\n",
    "model.add(Dropout(0.1))\n",
    "\n",
    "model.add(Flatten())\n",
    "model.add(Dense(512, kernel_initializer='random_uniform', activation='relu'))\n",
    "model.add(Dropout(rate=0.1))\n",
    "\n",
    "model.add(Flatten())\n",
    "model.add(Dense(512, kernel_initializer='random_uniform', activation='relu'))\n",
    "model.add(Dropout(rate=0.1))\n",
    "\n",
    "\n",
    "\n",
    "model.add(Flatten())\n",
    "model.add(Dense(512, kernel_initializer='random_uniform', activation='relu'))\n",
    "model.add(Dropout(rate=0.1))\n",
    "\n",
    "\n",
    "# output layer: dim=1, activation sigmoid\n",
    "model.add(Dense(1, kernel_initializer='random_uniform', activation='sigmoid' ))\n",
    "\n",
    "# Compile the model\n",
    "model.compile(loss='binary_crossentropy',   \n",
    "             optimizer='adam',\n",
    "             metrics=['accuracy'])\n",
    "model.summary()"
   ]
  },
  {
   "cell_type": "code",
   "execution_count": 31,
   "metadata": {
    "execution": {
     "iopub.execute_input": "2022-06-13T12:24:13.239808Z",
     "iopub.status.busy": "2022-06-13T12:24:13.239067Z",
     "iopub.status.idle": "2022-06-13T12:29:04.763769Z",
     "shell.execute_reply": "2022-06-13T12:29:04.763040Z",
     "shell.execute_reply.started": "2022-06-13T12:24:13.239769Z"
    }
   },
   "outputs": [],
   "source": [
    "model.fit(X_train, y_train, batch_size=100, epochs=2)"
   ]
  },
  {
   "cell_type": "code",
   "execution_count": 32,
   "metadata": {
    "execution": {
     "iopub.execute_input": "2022-06-13T12:29:04.765656Z",
     "iopub.status.busy": "2022-06-13T12:29:04.765279Z",
     "iopub.status.idle": "2022-06-13T12:29:39.944588Z",
     "shell.execute_reply": "2022-06-13T12:29:39.943715Z",
     "shell.execute_reply.started": "2022-06-13T12:29:04.765595Z"
    }
   },
   "outputs": [],
   "source": [
    "Y_pred = model.predict(X_test)"
   ]
  },
  {
   "cell_type": "markdown",
   "metadata": {},
   "source": [
    "**Implementing Decision Tree Classifier**"
   ]
  },
  {
   "cell_type": "code",
   "execution_count": 33,
   "metadata": {
    "execution": {
     "iopub.execute_input": "2022-06-13T12:29:39.947131Z",
     "iopub.status.busy": "2022-06-13T12:29:39.946756Z",
     "iopub.status.idle": "2022-06-13T12:29:40.081675Z",
     "shell.execute_reply": "2022-06-13T12:29:40.080716Z",
     "shell.execute_reply.started": "2022-06-13T12:29:39.947096Z"
    }
   },
   "outputs": [],
   "source": [
    "from sklearn.tree import DecisionTreeClassifier"
   ]
  },
  {
   "cell_type": "code",
   "execution_count": 39,
   "metadata": {
    "execution": {
     "iopub.execute_input": "2022-06-13T12:35:44.009465Z",
     "iopub.status.busy": "2022-06-13T12:35:44.008664Z",
     "iopub.status.idle": "2022-06-13T12:36:41.755728Z",
     "shell.execute_reply": "2022-06-13T12:36:41.754887Z",
     "shell.execute_reply.started": "2022-06-13T12:35:44.009417Z"
    }
   },
   "outputs": [],
   "source": [
    "DecisionTree = DecisionTreeClassifier()\n",
    "fit = DecisionTree.fit(X_train, y_train)\n",
    "prediction = DecisionTree.predict(X_test)\n"
   ]
  },
  {
   "cell_type": "code",
   "execution_count": 43,
   "metadata": {
    "execution": {
     "iopub.execute_input": "2022-06-13T12:37:47.097099Z",
     "iopub.status.busy": "2022-06-13T12:37:47.096110Z",
     "iopub.status.idle": "2022-06-13T12:37:49.214677Z",
     "shell.execute_reply": "2022-06-13T12:37:49.213880Z",
     "shell.execute_reply.started": "2022-06-13T12:37:47.097052Z"
    }
   },
   "outputs": [],
   "source": [
    "from sklearn.metrics import confusion_matrix, roc_curve, auc, accuracy_score, classification_report\n",
    "CM = confusion_matrix(y_test,prediction)\n",
    "CR = classification_report(y_test,prediction)\n",
    "fpr, recall, thresholds = roc_curve(y_test, prediction)\n",
    "AUC = auc(fpr, recall)"
   ]
  },
  {
   "cell_type": "code",
   "execution_count": 48,
   "metadata": {
    "execution": {
     "iopub.execute_input": "2022-06-13T12:41:14.812053Z",
     "iopub.status.busy": "2022-06-13T12:41:14.811520Z",
     "iopub.status.idle": "2022-06-13T12:41:15.055639Z",
     "shell.execute_reply": "2022-06-13T12:41:15.054906Z",
     "shell.execute_reply.started": "2022-06-13T12:41:14.812009Z"
    }
   },
   "outputs": [],
   "source": [
    "sns.heatmap(CM, annot = True)"
   ]
  },
  {
   "cell_type": "code",
   "execution_count": 54,
   "metadata": {
    "execution": {
     "iopub.execute_input": "2022-06-13T12:46:19.966863Z",
     "iopub.status.busy": "2022-06-13T12:46:19.966502Z",
     "iopub.status.idle": "2022-06-13T12:46:19.971210Z",
     "shell.execute_reply": "2022-06-13T12:46:19.970421Z",
     "shell.execute_reply.started": "2022-06-13T12:46:19.966833Z"
    }
   },
   "outputs": [],
   "source": [
    "print('Classification Report:')\n",
    "print(CR)"
   ]
  },
  {
   "cell_type": "code",
   "execution_count": 56,
   "metadata": {
    "execution": {
     "iopub.execute_input": "2022-06-13T12:47:08.464591Z",
     "iopub.status.busy": "2022-06-13T12:47:08.463666Z",
     "iopub.status.idle": "2022-06-13T12:47:08.470115Z",
     "shell.execute_reply": "2022-06-13T12:47:08.469057Z",
     "shell.execute_reply.started": "2022-06-13T12:47:08.464545Z"
    }
   },
   "outputs": [],
   "source": [
    "print(\"Area Under Curve:\")\n",
    "print(AUC)"
   ]
  },
  {
   "cell_type": "code",
   "execution_count": 44,
   "metadata": {
    "execution": {
     "iopub.execute_input": "2022-06-13T12:38:10.269534Z",
     "iopub.status.busy": "2022-06-13T12:38:10.269161Z",
     "iopub.status.idle": "2022-06-13T12:38:10.372532Z",
     "shell.execute_reply": "2022-06-13T12:38:10.371688Z",
     "shell.execute_reply.started": "2022-06-13T12:38:10.269504Z"
    }
   },
   "outputs": [],
   "source": [
    "print(\"Accuracy Score:\",accuracy_score(y_test, prediction))"
   ]
  }
 ],
 "metadata": {
  "kernelspec": {
   "display_name": "Python 3",
   "language": "python",
   "name": "python3"
  },
  "language_info": {
   "codemirror_mode": {
    "name": "ipython",
    "version": 3
   },
   "file_extension": ".py",
   "mimetype": "text/x-python",
   "name": "python",
   "nbconvert_exporter": "python",
   "pygments_lexer": "ipython3",
   "version": "3.9.0"
  }
 },
 "nbformat": 4,
 "nbformat_minor": 4
}
